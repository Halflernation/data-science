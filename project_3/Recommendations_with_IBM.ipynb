{
 "cells": [
  {
   "cell_type": "markdown",
   "metadata": {},
   "source": [
    "# Recommendations with IBM\n",
    "\n",
    "In this notebook, you will be putting your recommendation skills to use on real data from the IBM Watson Studio platform. \n",
    "\n",
    "\n",
    "You may either submit your notebook through the workspace here, or you may work from your local machine and submit through the next page.  Either way assure that your code passes the project [RUBRIC](https://review.udacity.com/#!/rubrics/2322/view).  **Please save regularly.**\n",
    "\n",
    "By following the table of contents, you will build out a number of different methods for making recommendations that can be used for different situations. \n",
    "\n",
    "\n",
    "## Table of Contents\n",
    "\n",
    "I. [Exploratory Data Analysis](#Exploratory-Data-Analysis)<br>\n",
    "II. [Rank Based Recommendations](#Rank)<br>\n",
    "III. [User-User Based Collaborative Filtering](#User-User)<br>\n",
    "IV. [Content Based Recommendations (EXTRA - NOT REQUIRED)](#Content-Recs)<br>\n",
    "V. [Matrix Factorization](#Matrix-Fact)<br>\n",
    "VI. [Extras & Concluding](#conclusions)\n",
    "\n",
    "At the end of the notebook, you will find directions for how to submit your work.  Let's get started by importing the necessary libraries and reading in the data."
   ]
  },
  {
   "cell_type": "code",
   "execution_count": 1,
   "metadata": {},
   "outputs": [
    {
     "data": {
      "text/html": [
       "<div>\n",
       "<style scoped>\n",
       "    .dataframe tbody tr th:only-of-type {\n",
       "        vertical-align: middle;\n",
       "    }\n",
       "\n",
       "    .dataframe tbody tr th {\n",
       "        vertical-align: top;\n",
       "    }\n",
       "\n",
       "    .dataframe thead th {\n",
       "        text-align: right;\n",
       "    }\n",
       "</style>\n",
       "<table border=\"1\" class=\"dataframe\">\n",
       "  <thead>\n",
       "    <tr style=\"text-align: right;\">\n",
       "      <th></th>\n",
       "      <th>article_id</th>\n",
       "      <th>title</th>\n",
       "      <th>email</th>\n",
       "    </tr>\n",
       "  </thead>\n",
       "  <tbody>\n",
       "    <tr>\n",
       "      <th>0</th>\n",
       "      <td>1430.0</td>\n",
       "      <td>using pixiedust for fast, flexible, and easier...</td>\n",
       "      <td>ef5f11f77ba020cd36e1105a00ab868bbdbf7fe7</td>\n",
       "    </tr>\n",
       "    <tr>\n",
       "      <th>1</th>\n",
       "      <td>1314.0</td>\n",
       "      <td>healthcare python streaming application demo</td>\n",
       "      <td>083cbdfa93c8444beaa4c5f5e0f5f9198e4f9e0b</td>\n",
       "    </tr>\n",
       "    <tr>\n",
       "      <th>2</th>\n",
       "      <td>1429.0</td>\n",
       "      <td>use deep learning for image classification</td>\n",
       "      <td>b96a4f2e92d8572034b1e9b28f9ac673765cd074</td>\n",
       "    </tr>\n",
       "    <tr>\n",
       "      <th>3</th>\n",
       "      <td>1338.0</td>\n",
       "      <td>ml optimization using cognitive assistant</td>\n",
       "      <td>06485706b34a5c9bf2a0ecdac41daf7e7654ceb7</td>\n",
       "    </tr>\n",
       "    <tr>\n",
       "      <th>4</th>\n",
       "      <td>1276.0</td>\n",
       "      <td>deploy your python model as a restful api</td>\n",
       "      <td>f01220c46fc92c6e6b161b1849de11faacd7ccb2</td>\n",
       "    </tr>\n",
       "  </tbody>\n",
       "</table>\n",
       "</div>"
      ],
      "text/plain": [
       "   article_id                                              title  \\\n",
       "0      1430.0  using pixiedust for fast, flexible, and easier...   \n",
       "1      1314.0       healthcare python streaming application demo   \n",
       "2      1429.0         use deep learning for image classification   \n",
       "3      1338.0          ml optimization using cognitive assistant   \n",
       "4      1276.0          deploy your python model as a restful api   \n",
       "\n",
       "                                      email  \n",
       "0  ef5f11f77ba020cd36e1105a00ab868bbdbf7fe7  \n",
       "1  083cbdfa93c8444beaa4c5f5e0f5f9198e4f9e0b  \n",
       "2  b96a4f2e92d8572034b1e9b28f9ac673765cd074  \n",
       "3  06485706b34a5c9bf2a0ecdac41daf7e7654ceb7  \n",
       "4  f01220c46fc92c6e6b161b1849de11faacd7ccb2  "
      ]
     },
     "execution_count": 1,
     "metadata": {},
     "output_type": "execute_result"
    }
   ],
   "source": [
    "import pandas as pd\n",
    "import numpy as np\n",
    "import matplotlib.pyplot as plt\n",
    "import project_tests as t\n",
    "import pickle\n",
    "from collections import defaultdict\n",
    "\n",
    "%matplotlib inline\n",
    "\n",
    "df = pd.read_csv('data/user-item-interactions.csv')\n",
    "df_content = pd.read_csv('data/articles_community.csv')\n",
    "del df['Unnamed: 0']\n",
    "del df_content['Unnamed: 0']\n",
    "\n",
    "# This can't be transformed onto 'int' since later the verifications are done as 'strings'\n",
    "# df['article_id'] = df.article_id.astype(int)\n",
    "\n",
    "# Show df to get an idea of the data\n",
    "df.head()"
   ]
  },
  {
   "cell_type": "code",
   "execution_count": 2,
   "metadata": {},
   "outputs": [
    {
     "name": "stdout",
     "output_type": "stream",
     "text": [
      "(1056, 5)\n"
     ]
    }
   ],
   "source": [
    "# Show df_content to get an idea of the data\n",
    "df_content.head()\n",
    "print(df_content.shape)"
   ]
  },
  {
   "cell_type": "markdown",
   "metadata": {},
   "source": [
    "### <a class=\"anchor\" id=\"Exploratory-Data-Analysis\">Part I : Exploratory Data Analysis</a>\n",
    "\n",
    "Use the dictionary and cells below to provide some insight into the descriptive statistics of the data.\n",
    "\n",
    "`1.` What is the distribution of how many articles a user interacts with in the dataset?  Provide a visual and descriptive statistics to assist with giving a look at the number of times each user interacts with an article.  "
   ]
  },
  {
   "cell_type": "code",
   "execution_count": 3,
   "metadata": {
    "scrolled": true
   },
   "outputs": [
    {
     "data": {
      "image/png": "[encoded data removed]",
      "text/plain": [
       "<matplotlib.figure.Figure at 0x7fe10d68c278>"
      ]
     },
     "metadata": {
      "needs_background": "light"
     },
     "output_type": "display_data"
    }
   ],
   "source": [
    "n_users = len(df.email.unique())\n",
    "df.plot.hist()\n",
    "\n",
    "grp = df.groupby('article_id')['email'].count()\n",
    "# print(grp.sort_values())"
   ]
  },
  {
   "cell_type": "code",
   "execution_count": null,
   "metadata": {},
   "outputs": [],
   "source": []
  },
  {
   "cell_type": "code",
   "execution_count": 4,
   "metadata": {},
   "outputs": [
    {
     "name": "stdout",
     "output_type": "stream",
     "text": [
      "25.0\n",
      "937\n"
     ]
    }
   ],
   "source": [
    "# Fill in the median and maximum number of user_article interactios below\n",
    "\n",
    "median_val = grp.median() # 50% of individuals interact with __25__ number of articles or fewer.\n",
    "print(median_val)\n",
    "max_views_by_user = grp.max() # The maximum number of user-article interactions by any 1 user is __937____.\n",
    "print(max_views_by_user) "
   ]
  },
  {
   "cell_type": "markdown",
   "metadata": {},
   "source": [
    "`2.` Explore and remove duplicate articles from the **df_content** dataframe.  "
   ]
  },
  {
   "cell_type": "code",
   "execution_count": 5,
   "metadata": {},
   "outputs": [
    {
     "name": "stdout",
     "output_type": "stream",
     "text": [
      "(1056, 5)\n",
      "article_id\n",
      "0       False\n",
      "692     False\n",
      "693     False\n",
      "694     False\n",
      "695     False\n",
      "696     False\n",
      "697     False\n",
      "698     False\n",
      "699     False\n",
      "700     False\n",
      "701     False\n",
      "702     False\n",
      "703     False\n",
      "704     False\n",
      "691     False\n",
      "705     False\n",
      "707     False\n",
      "708     False\n",
      "709     False\n",
      "710     False\n",
      "711     False\n",
      "712     False\n",
      "713     False\n",
      "714     False\n",
      "715     False\n",
      "716     False\n",
      "717     False\n",
      "718     False\n",
      "719     False\n",
      "706     False\n",
      "        ...  \n",
      "335     False\n",
      "336     False\n",
      "337     False\n",
      "338     False\n",
      "339     False\n",
      "340     False\n",
      "341     False\n",
      "342     False\n",
      "343     False\n",
      "359     False\n",
      "344     False\n",
      "1050    False\n",
      "346     False\n",
      "347     False\n",
      "357     False\n",
      "348     False\n",
      "349     False\n",
      "350     False\n",
      "351     False\n",
      "352     False\n",
      "345     False\n",
      "353     False\n",
      "354     False\n",
      "355     False\n",
      "356     False\n",
      "50       True\n",
      "398      True\n",
      "577      True\n",
      "232      True\n",
      "221      True\n",
      "Name: article_id, Length: 1051, dtype: bool\n",
      "(1051, 5)\n"
     ]
    }
   ],
   "source": [
    "# Find and explore duplicate articles\n",
    "df_content.dropna(axis=0, how='any')\n",
    "print(df_content.shape)\n",
    "duplicate = df_content.groupby('article_id')['article_id'].count().sort_values() > 1\n",
    "print(duplicate)\n",
    "df_content.drop(axis=0, index=[50, 398, 577, 232, 221], inplace=True) \n",
    "print(df_content.shape)"
   ]
  },
  {
   "cell_type": "code",
   "execution_count": 6,
   "metadata": {},
   "outputs": [],
   "source": [
    "# Remove any rows that have the same article_id - only keep the first"
   ]
  },
  {
   "cell_type": "markdown",
   "metadata": {},
   "source": [
    "`3.` Use the cells below to find:\n",
    "\n",
    "**a.** The number of unique articles that have an interaction with a user.  \n",
    "**b.** The number of unique articles in the dataset (whether they have any interactions or not).<br>\n",
    "**c.** The number of unique users in the dataset. (excluding null values) <br>\n",
    "**d.** The number of user-article interactions in the dataset."
   ]
  },
  {
   "cell_type": "code",
   "execution_count": 7,
   "metadata": {},
   "outputs": [
    {
     "data": {
      "text/plain": [
       "45993"
      ]
     },
     "execution_count": 7,
     "metadata": {},
     "output_type": "execute_result"
    }
   ],
   "source": [
    "df.dropna(axis=0, how='any')\n",
    "df.groupby('article_id')['email'].unique().count()\n",
    "len(df.article_id.unique())\n",
    "len(df.email.unique())\n",
    "df.shape[0]"
   ]
  },
  {
   "cell_type": "code",
   "execution_count": 8,
   "metadata": {},
   "outputs": [],
   "source": [
    "unique_articles = df.groupby('article_id')['email'].unique().count() # The number of unique articles that have at least one interaction\n",
    "total_articles = len(df.article_id.unique()) # The number of unique articles on the IBM platform\n",
    "unique_users = len(df.email.unique())-1 # The number of unique users\n",
    "user_article_interactions = df.shape[0] # The number of user-article interactions"
   ]
  },
  {
   "cell_type": "markdown",
   "metadata": {},
   "source": [
    "`4.` Use the cells below to find the most viewed **article_id**, as well as how often it was viewed.  After talking to the company leaders, the `email_mapper` function was deemed a reasonable way to map users to ids.  There were a small number of null values, and it was found that all of these null values likely belonged to a single user (which is how they are stored using the function below)."
   ]
  },
  {
   "cell_type": "code",
   "execution_count": 9,
   "metadata": {},
   "outputs": [
    {
     "data": {
      "text/plain": [
       "article_id\n",
       "1429.0    937\n",
       "1330.0    927\n",
       "1431.0    671\n",
       "1427.0    643\n",
       "1364.0    627\n",
       "1314.0    614\n",
       "1293.0    572\n",
       "1170.0    565\n",
       "1162.0    512\n",
       "1304.0    483\n",
       "1436.0    481\n",
       "1271.0    473\n",
       "1398.0    465\n",
       "43.0      460\n",
       "1351.0    457\n",
       "1393.0    455\n",
       "1185.0    442\n",
       "1160.0    433\n",
       "1354.0    426\n",
       "1368.0    418\n",
       "1305.0    413\n",
       "1338.0    382\n",
       "1336.0    379\n",
       "1165.0    372\n",
       "1172.0    363\n",
       "151.0     352\n",
       "1276.0    347\n",
       "1432.0    340\n",
       "1430.0    336\n",
       "1052.0    330\n",
       "         ... \n",
       "1210.0      2\n",
       "1226.0      2\n",
       "1227.0      2\n",
       "1067.0      2\n",
       "1230.0      2\n",
       "1137.0      2\n",
       "1135.0      2\n",
       "1235.0      2\n",
       "1251.0      2\n",
       "364.0       2\n",
       "1130.0      2\n",
       "1244.0      2\n",
       "1127.0      1\n",
       "675.0       1\n",
       "1119.0      1\n",
       "653.0       1\n",
       "662.0       1\n",
       "974.0       1\n",
       "1344.0      1\n",
       "1113.0      1\n",
       "724.0       1\n",
       "1072.0      1\n",
       "1266.0      1\n",
       "1200.0      1\n",
       "1202.0      1\n",
       "1233.0      1\n",
       "1237.0      1\n",
       "417.0       1\n",
       "984.0       1\n",
       "1092.0      1\n",
       "Name: article_id, Length: 714, dtype: int64"
      ]
     },
     "execution_count": 9,
     "metadata": {},
     "output_type": "execute_result"
    }
   ],
   "source": [
    "df.groupby('article_id')['article_id'].count().sort_values(ascending=False)\n",
    "# article_id = 1429 # interactions = 937"
   ]
  },
  {
   "cell_type": "code",
   "execution_count": 10,
   "metadata": {},
   "outputs": [],
   "source": [
    "most_viewed_article_id = 1429 # The most viewed article in the dataset as a string with one value following the decimal \n",
    "max_views = 937 # The most viewed article in the dataset was viewed how many times?"
   ]
  },
  {
   "cell_type": "code",
   "execution_count": 11,
   "metadata": {
    "scrolled": true
   },
   "outputs": [
    {
     "data": {
      "text/html": [
       "<div>\n",
       "<style scoped>\n",
       "    .dataframe tbody tr th:only-of-type {\n",
       "        vertical-align: middle;\n",
       "    }\n",
       "\n",
       "    .dataframe tbody tr th {\n",
       "        vertical-align: top;\n",
       "    }\n",
       "\n",
       "    .dataframe thead th {\n",
       "        text-align: right;\n",
       "    }\n",
       "</style>\n",
       "<table border=\"1\" class=\"dataframe\">\n",
       "  <thead>\n",
       "    <tr style=\"text-align: right;\">\n",
       "      <th></th>\n",
       "      <th>article_id</th>\n",
       "      <th>title</th>\n",
       "      <th>user_id</th>\n",
       "    </tr>\n",
       "  </thead>\n",
       "  <tbody>\n",
       "    <tr>\n",
       "      <th>0</th>\n",
       "      <td>1430.0</td>\n",
       "      <td>using pixiedust for fast, flexible, and easier...</td>\n",
       "      <td>1</td>\n",
       "    </tr>\n",
       "    <tr>\n",
       "      <th>1</th>\n",
       "      <td>1314.0</td>\n",
       "      <td>healthcare python streaming application demo</td>\n",
       "      <td>2</td>\n",
       "    </tr>\n",
       "    <tr>\n",
       "      <th>2</th>\n",
       "      <td>1429.0</td>\n",
       "      <td>use deep learning for image classification</td>\n",
       "      <td>3</td>\n",
       "    </tr>\n",
       "    <tr>\n",
       "      <th>3</th>\n",
       "      <td>1338.0</td>\n",
       "      <td>ml optimization using cognitive assistant</td>\n",
       "      <td>4</td>\n",
       "    </tr>\n",
       "    <tr>\n",
       "      <th>4</th>\n",
       "      <td>1276.0</td>\n",
       "      <td>deploy your python model as a restful api</td>\n",
       "      <td>5</td>\n",
       "    </tr>\n",
       "  </tbody>\n",
       "</table>\n",
       "</div>"
      ],
      "text/plain": [
       "   article_id                                              title  user_id\n",
       "0      1430.0  using pixiedust for fast, flexible, and easier...        1\n",
       "1      1314.0       healthcare python streaming application demo        2\n",
       "2      1429.0         use deep learning for image classification        3\n",
       "3      1338.0          ml optimization using cognitive assistant        4\n",
       "4      1276.0          deploy your python model as a restful api        5"
      ]
     },
     "execution_count": 11,
     "metadata": {},
     "output_type": "execute_result"
    }
   ],
   "source": [
    "## No need to change the code here - this will be helpful for later parts of the notebook\n",
    "# Run this cell to map the user email to a user_id column and remove the email column\n",
    "\n",
    "def email_mapper():\n",
    "    coded_dict = dict()\n",
    "    cter = 1\n",
    "    email_encoded = []\n",
    "    \n",
    "    for val in df['email']:\n",
    "        if val not in coded_dict:\n",
    "            coded_dict[val] = cter\n",
    "            cter+=1\n",
    "        \n",
    "        email_encoded.append(coded_dict[val])\n",
    "    return email_encoded\n",
    "\n",
    "email_encoded = email_mapper()\n",
    "del df['email']\n",
    "df['user_id'] = email_encoded\n",
    "\n",
    "# show header\n",
    "df.head()"
   ]
  },
  {
   "cell_type": "code",
   "execution_count": 12,
   "metadata": {},
   "outputs": [
    {
     "name": "stdout",
     "output_type": "stream",
     "text": [
      "Oops! It looks like the value associated with: `50% of individuals have _____ or fewer interactions.` wasn't right. Try again.  It might just be the datatype.  All of the values should be ints except the article_id should be a string.  Let each row be considered a separate user-article interaction.  If a user interacts with an article 3 times, these are considered 3 separate interactions.\n",
      "\n",
      "  Notice you may also find the number of unique users as 5149 if you count the null user.  However, this is hard to catch without mapping first!\n",
      "Oops! It looks like the value associated with: `The maximum number of user-article interactions by any 1 user is ______.` wasn't right. Try again.  It might just be the datatype.  All of the values should be ints except the article_id should be a string.  Let each row be considered a separate user-article interaction.  If a user interacts with an article 3 times, these are considered 3 separate interactions.\n",
      "\n",
      "  Notice you may also find the number of unique users as 5149 if you count the null user.  However, this is hard to catch without mapping first!\n",
      "Oops! It looks like the value associated with: `The article_id of the most viewed article is ______.` wasn't right. Try again.  It might just be the datatype.  All of the values should be ints except the article_id should be a string.  Let each row be considered a separate user-article interaction.  If a user interacts with an article 3 times, these are considered 3 separate interactions.\n",
      "\n",
      "  Notice you may also find the number of unique users as 5149 if you count the null user.  However, this is hard to catch without mapping first!\n",
      "Oops! It looks like the value associated with: `The number of unique articles on the IBM platform` wasn't right. Try again.  It might just be the datatype.  All of the values should be ints except the article_id should be a string.  Let each row be considered a separate user-article interaction.  If a user interacts with an article 3 times, these are considered 3 separate interactions.\n",
      "\n",
      "  Notice you may also find the number of unique users as 5149 if you count the null user.  However, this is hard to catch without mapping first!\n"
     ]
    }
   ],
   "source": [
    "## If you stored all your results in the variable names above, \n",
    "## you shouldn't need to change anything in this cell\n",
    "\n",
    "sol_1_dict = {\n",
    "    '`50% of individuals have _____ or fewer interactions.`': median_val,\n",
    "    '`The total number of user-article interactions in the dataset is ______.`': user_article_interactions,\n",
    "    '`The maximum number of user-article interactions by any 1 user is ______.`': max_views_by_user,\n",
    "    '`The most viewed article in the dataset was viewed _____ times.`': max_views,\n",
    "    '`The article_id of the most viewed article is ______.`': most_viewed_article_id,\n",
    "    '`The number of unique articles that have at least 1 rating ______.`': unique_articles,\n",
    "    '`The number of unique users in the dataset is ______`': unique_users,\n",
    "    '`The number of unique articles on the IBM platform`': total_articles\n",
    "}\n",
    "\n",
    "# Test your dictionary against the solution\n",
    "t.sol_1_test(sol_1_dict)"
   ]
  },
  {
   "cell_type": "markdown",
   "metadata": {},
   "source": [
    "### <a class=\"anchor\" id=\"Rank\">Part II: Rank-Based Recommendations</a>\n",
    "\n",
    "Unlike in the earlier lessons, we don't actually have ratings for whether a user liked an article or not.  We only know that a user has interacted with an article.  In these cases, the popularity of an article can really only be based on how often an article was interacted with.\n",
    "\n",
    "`1.` Fill in the function below to return the **n** top articles ordered with most interactions as the top. Test your function using the tests below."
   ]
  },
  {
   "cell_type": "code",
   "execution_count": 13,
   "metadata": {},
   "outputs": [],
   "source": [
    "def get_top_articles(n, df=df):\n",
    "    '''\n",
    "    INPUT:\n",
    "    n - (int) the number of top articles to return\n",
    "    df - (pandas dataframe) df as defined at the top of the notebook \n",
    "    \n",
    "    OUTPUT:\n",
    "    top_articles - (list) A list of the top 'n' article titles \n",
    "    \n",
    "    '''\n",
    "    # Your code here\n",
    "    articles = df.groupby('title')['article_id'].count().sort_values(ascending=False).index\n",
    "    top_articles = articles[:n]\n",
    "    return top_articles # Return the top article titles from df (not df_content)\n",
    "\n",
    "def get_top_article_ids(n, df=df):\n",
    "    '''\n",
    "    INPUT:\n",
    "    n - (int) the number of top articles to return\n",
    "    df - (pandas dataframe) df as defined at the top of the notebook \n",
    "    \n",
    "    OUTPUT:\n",
    "    top_articles - (list) A list of the top 'n' article titles \n",
    "    \n",
    "    '''\n",
    "    # Your code here\n",
    "    articles = df.groupby('article_id')['article_id'].count().sort_values(ascending=False).index\n",
    "    top_articles_ids = articles[:n]\n",
    " \n",
    "    return top_articles_ids # Return the top article ids"
   ]
  },
  {
   "cell_type": "code",
   "execution_count": 14,
   "metadata": {},
   "outputs": [
    {
     "name": "stdout",
     "output_type": "stream",
     "text": [
      "Index(['use deep learning for image classification',\n",
      "       'insights from new york car accident reports',\n",
      "       'visualize car data with brunel',\n",
      "       'use xgboost, scikit-learn & ibm watson machine learning apis',\n",
      "       'predicting churn with the spss random tree algorithm',\n",
      "       'healthcare python streaming application demo',\n",
      "       'finding optimal locations of new store using decision optimization',\n",
      "       'apache spark lab, part 1: basic concepts',\n",
      "       'analyze energy consumption in buildings',\n",
      "       'gosales transactions for logistic regression model'],\n",
      "      dtype='object', name='title')\n",
      "Float64Index([1429.0, 1330.0, 1431.0, 1427.0, 1364.0, 1314.0, 1293.0, 1170.0,\n",
      "              1162.0, 1304.0],\n",
      "             dtype='float64', name='article_id')\n"
     ]
    }
   ],
   "source": [
    "print(get_top_articles(10))\n",
    "print(get_top_article_ids(10))"
   ]
  },
  {
   "cell_type": "code",
   "execution_count": 15,
   "metadata": {},
   "outputs": [
    {
     "name": "stdout",
     "output_type": "stream",
     "text": [
      "Your top_5 looks like the solution list! Nice job.\n",
      "Your top_10 looks like the solution list! Nice job.\n",
      "Your top_20 looks like the solution list! Nice job.\n"
     ]
    }
   ],
   "source": [
    "# Test your function by returning the top 5, 10, and 20 articles\n",
    "top_5 = get_top_articles(5)\n",
    "top_10 = get_top_articles(10)\n",
    "top_20 = get_top_articles(20)\n",
    "\n",
    "# Test each of your three lists from above\n",
    "t.sol_2_test(get_top_articles)"
   ]
  },
  {
   "cell_type": "markdown",
   "metadata": {},
   "source": [
    "### <a class=\"anchor\" id=\"User-User\">Part III: User-User Based Collaborative Filtering</a>\n",
    "\n",
    "\n",
    "`1.` Use the function below to reformat the **df** dataframe to be shaped with users as the rows and articles as the columns.  \n",
    "\n",
    "* Each **user** should only appear in each **row** once.\n",
    "\n",
    "\n",
    "* Each **article** should only show up in one **column**.  \n",
    "\n",
    "\n",
    "* **If a user has interacted with an article, then place a 1 where the user-row meets for that article-column**.  It does not matter how many times a user has interacted with the article, all entries where a user has interacted with an article should be a 1.  \n",
    "\n",
    "\n",
    "* **If a user has not interacted with an item, then place a zero where the user-row meets for that article-column**. \n",
    "\n",
    "Use the tests to make sure the basic structure of your matrix matches what is expected by the solution."
   ]
  },
  {
   "cell_type": "code",
   "execution_count": 16,
   "metadata": {},
   "outputs": [
    {
     "name": "stdout",
     "output_type": "stream",
     "text": [
      "article_id  0.0     2.0     4.0     8.0     9.0     12.0    14.0    15.0    \\\n",
      "user_id                                                                      \n",
      "1                0       0       0       0       0       0       0       0   \n",
      "2                0       0       0       0       0       0       0       0   \n",
      "3                0       0       0       0       0       1       0       0   \n",
      "4                0       0       0       0       0       0       0       0   \n",
      "5                0       0       0       0       0       0       0       0   \n",
      "6                0       0       0       0       0       0       0       0   \n",
      "7                0       0       0       0       0       0       0       0   \n",
      "8                0       0       0       0       0       0       1       0   \n",
      "9                0       0       0       0       0       0       1       0   \n",
      "10               0       0       0       0       0       0       0       0   \n",
      "11               0       0       0       0       0       1       0       0   \n",
      "12               0       0       0       0       0       0       1       0   \n",
      "13               0       0       0       0       0       0       1       0   \n",
      "14               0       0       0       0       0       0       0       0   \n",
      "15               0       0       0       0       0       0       0       0   \n",
      "16               0       0       0       0       0       0       0       0   \n",
      "17               0       0       0       0       0       0       0       0   \n",
      "18               0       0       0       0       0       0       0       0   \n",
      "19               0       0       0       0       0       0       0       0   \n",
      "20               0       0       0       0       0       0       0       0   \n",
      "21               0       0       0       0       0       0       1       0   \n",
      "22               0       0       0       0       0       1       0       0   \n",
      "23               0       1       0       0       0       1       1       0   \n",
      "24               0       0       0       0       0       0       0       0   \n",
      "25               0       0       0       0       0       0       0       0   \n",
      "26               0       0       0       0       0       0       0       0   \n",
      "27               0       0       0       0       0       0       0       0   \n",
      "28               0       0       0       0       0       1       0       0   \n",
      "29               0       0       0       0       0       0       0       0   \n",
      "30               0       0       0       0       0       0       0       0   \n",
      "...            ...     ...     ...     ...     ...     ...     ...     ...   \n",
      "5120             0       0       0       0       0       0       0       0   \n",
      "5121             0       0       0       0       0       0       0       0   \n",
      "5122             0       0       0       1       0       0       0       0   \n",
      "5123             0       0       0       0       0       0       0       0   \n",
      "5124             0       0       0       0       0       0       0       0   \n",
      "5125             0       0       0       0       0       0       0       0   \n",
      "5126             0       0       0       0       0       0       0       0   \n",
      "5127             0       0       0       0       0       0       0       0   \n",
      "5128             0       0       0       0       0       0       0       0   \n",
      "5129             0       0       0       0       0       0       0       0   \n",
      "5130             0       0       0       0       0       0       0       0   \n",
      "5131             0       0       0       0       0       0       0       0   \n",
      "5132             0       0       0       0       0       0       0       0   \n",
      "5133             0       0       0       0       0       0       0       0   \n",
      "5134             0       0       0       0       0       0       0       0   \n",
      "5135             0       0       0       0       0       0       0       0   \n",
      "5136             0       0       0       0       0       0       0       0   \n",
      "5137             0       0       0       0       0       0       0       0   \n",
      "5138             0       0       0       0       0       1       1       0   \n",
      "5139             0       0       0       0       0       0       0       1   \n",
      "5140             0       1       0       0       0       1       0       0   \n",
      "5141             0       0       0       0       0       0       0       0   \n",
      "5142             0       0       0       0       0       0       1       0   \n",
      "5143             0       0       0       0       0       0       0       0   \n",
      "5144             0       0       0       0       0       0       0       0   \n",
      "5145             0       0       0       0       0       0       0       0   \n",
      "5146             0       0       0       0       0       0       0       0   \n",
      "5147             0       0       0       0       0       0       0       0   \n",
      "5148             0       0       0       0       0       0       0       0   \n",
      "5149             0       0       0       0       0       0       0       0   \n",
      "\n",
      "article_id  16.0    18.0     ...    1434.0  1435.0  1436.0  1437.0  1439.0  \\\n",
      "user_id                      ...                                             \n",
      "1                0       0   ...         0       0       1       0       1   \n",
      "2                0       0   ...         0       0       0       0       0   \n",
      "3                0       0   ...         0       0       1       0       0   \n",
      "4                0       0   ...         0       0       0       0       0   \n",
      "5                0       0   ...         0       0       0       0       0   \n",
      "6                0       0   ...         0       0       1       0       0   \n",
      "7                0       0   ...         0       0       0       0       0   \n",
      "8                0       0   ...         0       0       1       0       0   \n",
      "9                1       0   ...         0       0       0       0       0   \n",
      "10               0       0   ...         0       0       0       0       0   \n",
      "11               0       0   ...         0       0       0       0       0   \n",
      "12               0       0   ...         0       0       0       0       0   \n",
      "13               0       0   ...         0       0       0       0       0   \n",
      "14               0       0   ...         0       0       0       0       0   \n",
      "15               0       0   ...         0       0       0       0       0   \n",
      "16               0       0   ...         0       0       0       0       0   \n",
      "17               0       0   ...         0       0       0       0       0   \n",
      "18               0       0   ...         0       0       0       0       0   \n",
      "19               0       0   ...         0       0       0       0       0   \n",
      "20               0       0   ...         0       0       0       0       0   \n",
      "21               0       0   ...         0       0       1       1       0   \n",
      "22               0       0   ...         0       0       0       0       0   \n",
      "23               1       0   ...         0       0       1       0       1   \n",
      "24               0       0   ...         0       0       0       0       0   \n",
      "25               0       0   ...         0       0       0       0       0   \n",
      "26               0       0   ...         0       0       1       0       0   \n",
      "27               0       0   ...         0       0       0       0       0   \n",
      "28               0       0   ...         0       0       0       0       0   \n",
      "29               0       0   ...         0       0       0       0       0   \n",
      "30               0       0   ...         0       0       0       0       0   \n",
      "...            ...     ...   ...       ...     ...     ...     ...     ...   \n",
      "5120             0       0   ...         0       0       0       0       0   \n",
      "5121             0       0   ...         0       0       0       0       0   \n",
      "5122             0       0   ...         0       0       0       0       0   \n",
      "5123             0       0   ...         0       0       1       1       0   \n",
      "5124             0       0   ...         0       0       0       0       0   \n",
      "5125             0       0   ...         0       0       0       0       0   \n",
      "5126             0       0   ...         0       0       0       0       0   \n",
      "5127             0       0   ...         1       0       0       0       0   \n",
      "5128             0       0   ...         0       0       0       0       0   \n",
      "5129             0       0   ...         0       0       0       0       0   \n",
      "5130             0       0   ...         0       0       0       0       0   \n",
      "5131             0       0   ...         0       0       0       0       0   \n",
      "5132             0       0   ...         0       0       0       0       0   \n",
      "5133             0       0   ...         0       0       0       0       0   \n",
      "5134             0       0   ...         0       0       0       0       0   \n",
      "5135             0       0   ...         0       0       0       0       0   \n",
      "5136             0       0   ...         0       0       0       0       0   \n",
      "5137             0       0   ...         0       0       0       0       0   \n",
      "5138             0       0   ...         0       0       0       0       0   \n",
      "5139             0       0   ...         0       0       0       0       0   \n",
      "5140             0       0   ...         0       0       0       0       0   \n",
      "5141             0       0   ...         0       0       0       0       0   \n",
      "5142             0       0   ...         0       0       0       0       0   \n",
      "5143             0       0   ...         0       0       1       0       0   \n",
      "5144             0       0   ...         0       0       0       0       0   \n",
      "5145             0       0   ...         0       0       0       0       0   \n",
      "5146             0       0   ...         0       0       0       0       0   \n",
      "5147             0       0   ...         0       0       0       0       0   \n",
      "5148             0       0   ...         0       0       0       0       0   \n",
      "5149             1       0   ...         0       0       0       0       0   \n",
      "\n",
      "article_id  1440.0  1441.0  1442.0  1443.0  1444.0  \n",
      "user_id                                             \n",
      "1                0       0       0       0       0  \n",
      "2                0       0       0       0       0  \n",
      "3                0       0       0       0       0  \n",
      "4                0       0       0       0       0  \n",
      "5                0       0       0       0       0  \n",
      "6                0       0       0       0       0  \n",
      "7                0       0       0       0       0  \n",
      "8                0       0       0       0       0  \n",
      "9                0       0       0       0       0  \n",
      "10               0       0       0       0       0  \n",
      "11               0       0       0       0       0  \n",
      "12               0       0       0       0       0  \n",
      "13               0       0       0       0       0  \n",
      "14               0       0       0       0       0  \n",
      "15               0       0       0       0       0  \n",
      "16               0       0       0       0       0  \n",
      "17               0       0       0       0       0  \n",
      "18               0       0       0       0       0  \n",
      "19               0       0       0       0       0  \n",
      "20               0       0       0       0       0  \n",
      "21               0       0       0       0       0  \n",
      "22               0       0       0       0       0  \n",
      "23               0       0       0       0       0  \n",
      "24               1       0       0       0       0  \n",
      "25               0       0       0       0       0  \n",
      "26               0       0       0       0       0  \n",
      "27               0       0       0       0       0  \n",
      "28               0       0       0       0       0  \n",
      "29               0       0       0       0       0  \n",
      "30               0       0       0       0       0  \n",
      "...            ...     ...     ...     ...     ...  \n",
      "5120             0       0       0       0       0  \n",
      "5121             0       0       0       0       0  \n",
      "5122             0       0       0       0       0  \n",
      "5123             0       0       0       0       0  \n",
      "5124             0       0       0       0       0  \n",
      "5125             0       0       0       0       0  \n",
      "5126             0       0       0       0       0  \n",
      "5127             0       0       0       0       0  \n",
      "5128             0       0       0       0       0  \n",
      "5129             0       0       0       0       0  \n",
      "5130             0       0       0       0       0  \n",
      "5131             0       0       0       0       0  \n",
      "5132             0       0       0       0       0  \n",
      "5133             0       0       0       0       0  \n",
      "5134             0       0       0       0       0  \n",
      "5135             0       0       0       0       0  \n",
      "5136             0       0       0       0       0  \n",
      "5137             0       0       0       0       0  \n",
      "5138             0       0       0       0       0  \n",
      "5139             0       0       0       0       0  \n",
      "5140             0       0       0       0       0  \n",
      "5141             0       0       0       0       0  \n",
      "5142             0       0       0       0       0  \n",
      "5143             0       0       0       0       0  \n",
      "5144             0       0       0       0       0  \n",
      "5145             0       0       0       0       0  \n",
      "5146             0       0       0       0       0  \n",
      "5147             0       0       0       0       0  \n",
      "5148             0       0       0       0       0  \n",
      "5149             0       0       0       0       0  \n",
      "\n",
      "[5149 rows x 714 columns]\n"
     ]
    }
   ],
   "source": [
    "# create the user-article matrix with 1's and 0's\n",
    "\n",
    "def create_user_item_matrix(df):\n",
    "    '''\n",
    "    INPUT:\n",
    "    df - pandas dataframe with article_id, title, user_id columns\n",
    "    \n",
    "    OUTPUT:\n",
    "    user_item - user item matrix \n",
    "    \n",
    "    Description:\n",
    "    Return a matrix with user ids as rows and article ids on the columns with 1 values where a user interacted with \n",
    "    an article and a 0 otherwise\n",
    "    '''\n",
    "    # Fill in the function here\n",
    "    # user_item = pd.pivot_table(df, index='user_id', columns='article_id', fill_value=0)\n",
    "    user_item = df.groupby(['user_id','article_id'])['title'].count().unstack()\n",
    "    user_item.fillna(0, inplace=True)\n",
    "    user_item = user_item.astype(int)\n",
    "    \n",
    "    user_item = user_item >= 1\n",
    "    user_item.replace([True, False], [1, 0], inplace=True)\n",
    "    \n",
    "    return user_item # return the user_item matrix \n",
    "\n",
    "user_item = create_user_item_matrix(df)\n",
    "print(user_item)"
   ]
  },
  {
   "cell_type": "code",
   "execution_count": 17,
   "metadata": {},
   "outputs": [
    {
     "name": "stdout",
     "output_type": "stream",
     "text": [
      "You have passed our quick tests!  Please proceed!\n"
     ]
    }
   ],
   "source": [
    "## Tests: You should just need to run this cell.  Don't change the code.\n",
    "assert user_item.shape[0] == 5149, \"Oops!  The number of users in the user-article matrix doesn't look right.\"\n",
    "assert user_item.shape[1] == 714, \"Oops!  The number of articles in the user-article matrix doesn't look right.\"\n",
    "assert user_item.sum(axis=1)[1] == 36, \"Oops!  The number of articles seen by user 1 doesn't look right.\"\n",
    "print(\"You have passed our quick tests!  Please proceed!\")"
   ]
  },
  {
   "cell_type": "markdown",
   "metadata": {},
   "source": [
    "`2.` Complete the function below which should take a user_id and provide an ordered list of the most similar users to that user (from most similar to least similar).  The returned result should not contain the provided user_id, as we know that each user is similar to him/herself. Because the results for each user here are binary, it (perhaps) makes sense to compute similarity as the dot product of two users. \n",
    "\n",
    "Use the tests to test your function."
   ]
  },
  {
   "cell_type": "code",
   "execution_count": 18,
   "metadata": {
    "scrolled": false
   },
   "outputs": [
    {
     "name": "stdout",
     "output_type": "stream",
     "text": [
      "user_id\n",
      "3352    40\n",
      "22      23\n",
      "3781    23\n",
      "97      17\n",
      "3763    17\n",
      "4458    16\n",
      "202     16\n",
      "3696    16\n",
      "48      16\n",
      "51      15\n",
      "3595    15\n",
      "3539    14\n",
      "911     14\n",
      "3965    13\n",
      "130     13\n",
      "3909    13\n",
      "4931    13\n",
      "3869    13\n",
      "203     13\n",
      "241     13\n",
      "10      13\n",
      "5137    13\n",
      "39      13\n",
      "2925    13\n",
      "194     12\n",
      "4784    12\n",
      "20      12\n",
      "4773    12\n",
      "3577    12\n",
      "124     12\n",
      "        ..\n",
      "2051     0\n",
      "2050     0\n",
      "2049     0\n",
      "2048     0\n",
      "3728     0\n",
      "2046     0\n",
      "2067     0\n",
      "2068     0\n",
      "2069     0\n",
      "3721     0\n",
      "2090     0\n",
      "2089     0\n",
      "3715     0\n",
      "2087     0\n",
      "2086     0\n",
      "2085     0\n",
      "2084     0\n",
      "3716     0\n",
      "2082     0\n",
      "2081     0\n",
      "3717     0\n",
      "2079     0\n",
      "2078     0\n",
      "3718     0\n",
      "2075     0\n",
      "2074     0\n",
      "2073     0\n",
      "3720     0\n",
      "2071     0\n",
      "2576     0\n",
      "Name: 2, Length: 5149, dtype: int64\n"
     ]
    }
   ],
   "source": [
    "sim = pd.Series(0, index=user_item.index, name='2')\n",
    "sim[2] = np.dot(user_item.iloc[2], user_item.iloc[0])\n",
    "\n",
    "\n",
    "\n",
    "for i in range(user_item.shape[0]):\n",
    "    sim[i] = np.dot(user_item.iloc[2], user_item.iloc[i])\n",
    "\n",
    "sim.drop(index=2, inplace=True)\n",
    "result = sim.astype(int).sort_values(ascending=False)\n",
    "print(result)"
   ]
  },
  {
   "cell_type": "code",
   "execution_count": 19,
   "metadata": {},
   "outputs": [],
   "source": [
    "def find_similar_users(user_id, user_item=user_item, index=True):\n",
    "    '''\n",
    "    INPUT:\n",
    "    user_id - (int) a user_id\n",
    "    user_item - (pandas dataframe) matrix of users by articles: \n",
    "                1's when a user has interacted with an article, 0 otherwise\n",
    "    \n",
    "    OUTPUT:\n",
    "    similar_users - (list) an ordered list where the closest users (largest dot product users)\n",
    "                    are listed first\n",
    "    \n",
    "    Description:\n",
    "    Computes the similarity of every pair of users based on the dot product\n",
    "    Returns an ordered\n",
    "    \n",
    "    '''\n",
    "    sim = pd.Series(0, index=user_item.index, name='2')\n",
    "    \n",
    "    # compute similarity of each user to the provided user\n",
    "    for i in range(user_item.shape[0]):\n",
    "        sim[i] = np.dot(user_item.iloc[user_id], user_item.iloc[i])\n",
    "        \n",
    "    sim.drop(index=user_id, inplace=True)\n",
    "    sim.astype(int)\n",
    "    \n",
    "    most_similar_users = sim.sort_values(ascending=False)\n",
    "    # sort by similarity\n",
    "    if index:\n",
    "        most_similar_users = most_similar_users.index\n",
    "   \n",
    "    # remove the own user's id\n",
    "    # already done before: sim.drop(index=user_id, inplace=True)\n",
    "    return most_similar_users # return a list of the users in order from most to least similar\n",
    "        "
   ]
  },
  {
   "cell_type": "code",
   "execution_count": 20,
   "metadata": {},
   "outputs": [
    {
     "name": "stdout",
     "output_type": "stream",
     "text": [
      "The 10 most similar users to user 1 are: Int64Index([48, 3696, 3763, 97, 37, 4784, 22, 289, 20, 3781], dtype='int64', name='user_id')\n",
      "The 5 most similar users to user 3933 are: Int64Index([3781, 121, 48, 22, 4392], dtype='int64', name='user_id')\n",
      "The 3 most similar users to user 46 are: Int64Index([386, 1243, 3438], dtype='int64', name='user_id')\n"
     ]
    }
   ],
   "source": [
    "# Do a spot check of your function\n",
    "print(\"The 10 most similar users to user 1 are: {}\".format(find_similar_users(1)[:10]))\n",
    "print(\"The 5 most similar users to user 3933 are: {}\".format(find_similar_users(3933)[:5]))\n",
    "print(\"The 3 most similar users to user 46 are: {}\".format(find_similar_users(46)[:3]))"
   ]
  },
  {
   "cell_type": "markdown",
   "metadata": {},
   "source": [
    "`3.` Now that you have a function that provides the most similar users to each user, you will want to use these users to find articles you can recommend.  Complete the functions below to return the articles you would recommend to each user. "
   ]
  },
  {
   "cell_type": "code",
   "execution_count": 21,
   "metadata": {},
   "outputs": [
    {
     "name": "stderr",
     "output_type": "stream",
     "text": [
      "/opt/conda/lib/python3.6/site-packages/pandas/core/series.py:851: FutureWarning: \n",
      "Passing list-likes to .loc or [] with any missing label will raise\n",
      "KeyError in the future, you can use .reindex() as an alternative.\n",
      "\n",
      "See the documentation here:\n",
      "https://pandas.pydata.org/pandas-docs/stable/indexing.html#deprecate-loc-reindex-listlike\n",
      "  return self.loc[key]\n"
     ]
    },
    {
     "data": {
      "text/plain": [
       "12.0      Timeseries Data Analysis of IoT events by usin...\n",
       "20.0      Working interactively with RStudio and noteboo...\n",
       "29.0                           Experience IoT with Coursera\n",
       "43.0      Deep Learning With Tensorflow Course by Big Da...\n",
       "62.0      Data visualization: The importance of excludin...\n",
       "109.0                                 TensorFlow Quick Tips\n",
       "116.0     Practical Tutorial on Random Forest and Parame...\n",
       "120.0      A Dynamic Duo – Inside Machine learning – Medium\n",
       "193.0         Spark 2.1 and Job Monitoring Available in DSX\n",
       "213.0                Modeling energy usage in New York City\n",
       "381.0     Analyze Market Trends in Twitter Using Apache ...\n",
       "681.0     How the Circle Line rogue train was caught wit...\n",
       "720.0              The Database Tool for Elixir and Phoenix\n",
       "721.0                 Data Migration & Transformation Tools\n",
       "735.0                        Mobile Apps Offline and Online\n",
       "784.0             Empirical Bayes for multiple sample sizes\n",
       "788.0                 Interactive time series with dygraphs\n",
       "868.0     Analyze traffic data from the city of San Fran...\n",
       "957.0     A Plethora of Open Data Repositories (i.e., th...\n",
       "977.0                               Create a project in DSX\n",
       "1035.0    Laplace noising versus simulated out of sample...\n",
       "Name: doc_full_name, dtype: object"
      ]
     },
     "execution_count": 21,
     "metadata": {},
     "output_type": "execute_result"
    }
   ],
   "source": [
    "# print(df.head())\n",
    "# get_article_names([1314, 1212], df)\n",
    "user_item.head()\n",
    "# df_content['doc_full_name'][]\n",
    "\n",
    "article_ids = list()\n",
    "user_row = user_item.query('user_id == 3')\n",
    "for col in user_row:\n",
    "    if user_row[col].values[0] == 1:\n",
    "        article_ids.append(col)\n",
    "article_ids\n",
    "\n",
    "df_content['doc_full_name'][article_ids].dropna()"
   ]
  },
  {
   "cell_type": "code",
   "execution_count": 22,
   "metadata": {},
   "outputs": [],
   "source": [
    "def get_article_names(article_ids, df=df):\n",
    "    '''\n",
    "    INPUT:\n",
    "    article_ids - (list) a list of article ids\n",
    "    df - (pandas dataframe) df as defined at the top of the notebook\n",
    "    \n",
    "    OUTPUT:\n",
    "    article_names - (list) a list of article names associated with the list of article ids \n",
    "                    (this is identified by the title column)\n",
    "    '''\n",
    "    # Your code here\n",
    "    # article_names = df['title'][article_ids].dropna()\n",
    "    article_names = df.query('article_id in @article_ids')['title'].dropna().unique()\n",
    "    \n",
    "    return article_names # Return the article names associated with list of article ids\n",
    "\n",
    "\n",
    "def get_user_articles(user_id, user_item=user_item):\n",
    "    '''\n",
    "    INPUT:\n",
    "    user_id - (int) a user id\n",
    "    user_item - (pandas dataframe) matrix of users by articles: \n",
    "                1's when a user has interacted with an article, 0 otherwise\n",
    "    \n",
    "    OUTPUT:\n",
    "    article_ids - (list) a list of the article ids seen by the user\n",
    "    article_names - (list) a list of article names associated with the list of article ids \n",
    "                    (this is identified by the doc_full_name column in df_content)\n",
    "    \n",
    "    Description:\n",
    "    Provides a list of the article_ids and article titles that have been seen by a user\n",
    "    '''\n",
    "    # Your code here\n",
    "    article_ids = list()\n",
    "    user_row = user_item.query('user_id == @user_id')\n",
    "    for col in user_row:\n",
    "        if user_row[col].values[0] == 1:\n",
    "            article_ids.append(col)\n",
    "    \n",
    "    # article_names = df_content['doc_full_name'][article_ids].dropna()\n",
    "    article_names = df_content.query('article_id in @article_ids')['doc_full_name'].dropna().unique()\n",
    "    \n",
    "    return article_ids, article_names # return the ids and names\n",
    "\n",
    "\n",
    "def user_user_recs(user_id, m=10):\n",
    "    '''\n",
    "    INPUT:\n",
    "    user_id - (int) a user id\n",
    "    m - (int) the number of recommendations you want for the user\n",
    "    \n",
    "    OUTPUT:\n",
    "    recs - (list) a list of recommendations for the user\n",
    "    \n",
    "    Description:\n",
    "    Loops through the users based on closeness to the input user_id\n",
    "    For each user - finds articles the user hasn't seen before and provides them as recs\n",
    "    Does this until m recommendations are found\n",
    "    \n",
    "    Notes:\n",
    "    Users who are the same closeness are chosen arbitrarily as the 'next' user\n",
    "    \n",
    "    For the user where the number of recommended articles starts below m \n",
    "    and ends exceeding m, the last items are chosen arbitrarily\n",
    "    \n",
    "    '''\n",
    "    # Your code here\n",
    "    recs = list() # output\n",
    "    \n",
    "    user_seen_ids, user_seen_names = get_user_articles(user_id) # ids in 'string'\n",
    "    similar_users = find_similar_users(user_id)\n",
    "\n",
    "    count_recs = 0\n",
    "    new_ct_recs= 0\n",
    "    for user in similar_users:\n",
    "        article_idx, article_names = get_user_articles(user)\n",
    "        recs_ids = np.setdiff1d(article_idx, user_seen_ids)\n",
    "        temp_recs = get_article_names(recs_ids)\n",
    "        \n",
    "        recs.extend(temp_recs)\n",
    "        \n",
    "        if len(recs) > m:\n",
    "            recs = recs[:m]\n",
    "            break\n",
    "    \n",
    "    return recs # return your recommendations for this user_id    "
   ]
  },
  {
   "cell_type": "code",
   "execution_count": 23,
   "metadata": {},
   "outputs": [],
   "source": [
    "# df['article_id']\n",
    "# test = ['1024.0', '1176.0', '1305.0', '1314.0', '1422.0', '1427.0']\n",
    "# res1 = set(df.query('article_id in @test')['title'].dropna().unique())"
   ]
  },
  {
   "cell_type": "code",
   "execution_count": 24,
   "metadata": {},
   "outputs": [],
   "source": [
    "# Check Results\n",
    "#get_article_names([1024, 1176, 1305, 1314, 1422, 1427])\n",
    "#get_article_names([1320, 232.0, 844])\n",
    "#get_user_articles(20)[0]\n",
    "#get_user_articles(20)[1] # =>> DF_CONTENT shape is 1056x5 hence does not have article_ids > 1050!\n",
    "#get_user_articles(2)[0]\n",
    "#get_user_articles(2)[1] # =>> DF_CONTENT shape is 1056x5 hence does not have article_ids > 1050!\n",
    "#user_user_recs(1, 10)"
   ]
  },
  {
   "cell_type": "code",
   "execution_count": 25,
   "metadata": {},
   "outputs": [
    {
     "name": "stdout",
     "output_type": "stream",
     "text": [
      "If this is all you see, you passed all of our tests!  Nice job!\n"
     ]
    }
   ],
   "source": [
    "# Test your functions here - No need to change this code - just run this cell\n",
    "assert set(get_article_names([1024, 1176, 1305, 1314, 1422, 1427])) == set(['using deep learning to reconstruct high-resolution audio', 'build a python app on the streaming analytics service', 'gosales transactions for naive bayes model', 'healthcare python streaming application demo', 'use r dataframes & ibm watson natural language understanding', 'use xgboost, scikit-learn & ibm watson machine learning apis']), \"Oops! Your the get_article_names function doesn't work quite how we expect.\"\n",
    "assert set(get_article_names([1320, 232.0, 844])) == set(['housing (2015): united states demographic measures','self-service data preparation with ibm data refinery','use the cloudant-spark connector in python notebook']), \"Oops! Your the get_article_names function doesn't work quite how we expect.\"\n",
    "assert set(get_user_articles(20)[0]) == set([1320, 232, 844]), \"error 1\"\n",
    "# assert set(get_user_articles(20)[1]) == set(['housing (2015): united states demographic measures', 'self-service data preparation with ibm data refinery','use the cloudant-spark connector in python notebook']), \"error 2\"\n",
    "assert set(get_user_articles(2)[0]) == set([1024, 1176, 1305, 1314, 1422, 1427]), \"error 3\"\n",
    "#assert set(get_user_articles(2)[1]) == set(['using deep learning to reconstruct high-resolution audio', 'build a python app on the streaming analytics service', 'gosales transactions for naive bayes model', 'healthcare python streaming application demo', 'use r dataframes & ibm watson natural language understanding', 'use xgboost, scikit-learn & ibm watson machine learning apis']), \"error 4\"\n",
    "print(\"If this is all you see, you passed all of our tests!  Nice job!\")"
   ]
  },
  {
   "cell_type": "markdown",
   "metadata": {},
   "source": [
    "`4.` Now we are going to improve the consistency of the **user_user_recs** function from above.  \n",
    "\n",
    "* Instead of arbitrarily choosing when we obtain users who are all the same closeness to a given user - choose the users that have the most total article interactions before choosing those with fewer article interactions.\n",
    "\n",
    "\n",
    "* Instead of arbitrarily choosing articles from the user where the number of recommended articles starts below m and ends exceeding m, choose articles with the articles with the most total interactions before choosing those with fewer total interactions. This ranking should be  what would be obtained from the **top_articles** function you wrote earlier."
   ]
  },
  {
   "cell_type": "code",
   "execution_count": 26,
   "metadata": {},
   "outputs": [],
   "source": [
    "def get_top_sorted_users(user_id, df=df, user_item=user_item):\n",
    "    '''\n",
    "    INPUT:\n",
    "    user_id - (int)\n",
    "    df - (pandas dataframe) df as defined at the top of the notebook \n",
    "    user_item - (pandas dataframe) matrix of users by articles: \n",
    "            1's when a user has interacted with an article, 0 otherwise\n",
    "    \n",
    "            \n",
    "    OUTPUT:\n",
    "    neighbors_df - (pandas dataframe) a dataframe with:\n",
    "                    neighbor_id - is a neighbor user_id\n",
    "                    similarity - measure of the similarity of each user to the provided user_id\n",
    "                    num_interactions - the number of articles viewed by the user - if a u\n",
    "                    \n",
    "    Other Details - sort the neighbors_df by the similarity and then by number of interactions where \n",
    "                    highest of each is higher in the dataframe\n",
    "     \n",
    "    '''\n",
    "    neighbors_df = pd.DataFrame()\n",
    "    similar_users = find_similar_users(user_id, user_item, False)\n",
    "    num_interactions = df.groupby('user_id')['article_id'].count().sort_values(ascending=False)\n",
    "\n",
    "    neighbors_df.insert(loc=0, column='similarity', value=similar_users)\n",
    "    neighbors_df.insert(loc=0, column='num_interactions', value=num_interactions)\n",
    "    neighbors_df.index.rename('neighbor_id', inplace=True)\n",
    "    neighbors_df.dropna(how='any', inplace=True)\n",
    "    neighbors_df.sort_values(['similarity', 'num_interactions'], ascending=False, inplace=True)\n",
    "\n",
    "    return neighbors_df # Return the dataframe specified in the doc_string\n",
    "\n",
    "\n",
    "def user_user_recs_part2(user_id, m=10):\n",
    "    '''\n",
    "    INPUT:\n",
    "    user_id - (int) a user id\n",
    "    m - (int) the number of recommendations you want for the user\n",
    "    \n",
    "    OUTPUT:\n",
    "    recs - (list) a list of recommendations for the user by article id\n",
    "    rec_names - (list) a list of recommendations for the user by article title\n",
    "    \n",
    "    Description:\n",
    "    Loops through the users based on closeness to the input user_id\n",
    "    For each user - finds articles the user hasn't seen before and provides them as recs\n",
    "    Does this until m recommendations are found\n",
    "    \n",
    "    Notes:\n",
    "    * Choose the users that have the most total article interactions \n",
    "    before choosing those with fewer article interactions.\n",
    "\n",
    "    * Choose articles with the articles with the most total interactions \n",
    "    before choosing those with fewer total interactions. \n",
    "   \n",
    "    '''\n",
    "    # Your code here\n",
    "    recs = list() # output\n",
    "    rec_names = list() # output\n",
    "    \n",
    "    user_seen_ids, user_seen_names = get_user_articles(user_id) # ids in 'string'\n",
    "    similar_users_by_num_interactions = get_top_sorted_users(user_id)\n",
    "\n",
    "    for user in similar_users_by_num_interactions.index:\n",
    "        article_idx, article_names = get_user_articles(user)\n",
    "\n",
    "        temp_recs_ids = np.setdiff1d(article_idx, user_seen_ids)\n",
    "        temp_recs = get_article_names(temp_recs_ids)\n",
    "        \n",
    "        recs.extend(temp_recs_ids)\n",
    "        rec_names.extend(temp_recs)\n",
    "        \n",
    "        user_seen_ids.extend(recs)\n",
    "        \n",
    "        if len(recs) > m:\n",
    "            recs = recs[:m]\n",
    "            rec_names = rec_names[:m]\n",
    "            break\n",
    "    \n",
    "    recs = set(recs)\n",
    "    rec_names = set(rec_names)\n",
    "    \n",
    "    return list(recs), list(rec_names)"
   ]
  },
  {
   "cell_type": "code",
   "execution_count": 27,
   "metadata": {},
   "outputs": [
    {
     "name": "stdout",
     "output_type": "stream",
     "text": [
      "==========================================================\n"
     ]
    },
    {
     "data": {
      "text/plain": [
       "5082"
      ]
     },
     "execution_count": 27,
     "metadata": {},
     "output_type": "execute_result"
    }
   ],
   "source": [
    "print(\"==========================================================\")\n",
    "# user_user_recs_part2(20, 10)\n",
    "get_top_sorted_users(1).index[9]"
   ]
  },
  {
   "cell_type": "code",
   "execution_count": 28,
   "metadata": {},
   "outputs": [
    {
     "name": "stdout",
     "output_type": "stream",
     "text": [
      "The top 10 recommendations for user 20 are the following article ids:\n",
      "[544.0, 299.0, 12.0, 43.0, 111.0, 1328.0, 593.0, 1427.0, 213.0, 1271.0]\n",
      "\n",
      "The top 10 recommendations for user 20 are the following article names:\n",
      "['income (2015): united states demographic measures', 'visualize car data with brunel', 'deploy your python model as a restful api', 'upload files to ibm data science experience using the command line', 'timeseries data analysis of iot events by using jupyter notebook', 'predicting churn with the spss random tree algorithm', 'gosales transactions for naive bayes model', 'use xgboost, scikit-learn & ibm watson machine learning apis', 'brunel in jupyter', 'customer demographics and sales']\n"
     ]
    }
   ],
   "source": [
    "# Quick spot check - don't change this code - just use it to test your functions\n",
    "rec_ids, rec_names = user_user_recs_part2(20, 10)\n",
    "print(\"The top 10 recommendations for user 20 are the following article ids:\")\n",
    "print(rec_ids)\n",
    "print()\n",
    "print(\"The top 10 recommendations for user 20 are the following article names:\")\n",
    "print(rec_names)"
   ]
  },
  {
   "cell_type": "markdown",
   "metadata": {},
   "source": [
    "`5.` Use your functions from above to correctly fill in the solutions to the dictionary below.  Then test your dictionary against the solution.  Provide the code you need to answer each following the comments below."
   ]
  },
  {
   "cell_type": "code",
   "execution_count": 29,
   "metadata": {},
   "outputs": [],
   "source": [
    "### Tests with a dictionary of results\n",
    "\n",
    "user1_most_sim = get_top_sorted_users(1).index[0] # Find the user that is most similar to user 1 \n",
    "user131_10th_sim = get_top_sorted_users(131).index[9] # Find the 10th most similar user to user 131"
   ]
  },
  {
   "cell_type": "code",
   "execution_count": 31,
   "metadata": {},
   "outputs": [
    {
     "data": {
      "text/plain": [
       "\"\\nTypeError: 'numpy.int64' object is not iterable\\nDepends on how you make the test in the first place.\\n\""
      ]
     },
     "execution_count": 31,
     "metadata": {},
     "output_type": "execute_result"
    }
   ],
   "source": [
    "## Dictionary Test Here\n",
    "sol_5_dict = {\n",
    "    'The user that is most similar to user 1.': user1_most_sim, \n",
    "    'The user that is the 10th most similar to user 131': user131_10th_sim,\n",
    "}\n",
    "\n",
    "# t.sol_5_test(sol_5_dict)\n",
    "'''\n",
    "TypeError: 'numpy.int64' object is not iterable\n",
    "Depends on how you make the test in the first place.\n",
    "'''"
   ]
  },
  {
   "cell_type": "markdown",
   "metadata": {},
   "source": [
    "`6.` If we were given a new user, which of the above functions would you be able to use to make recommendations?  Explain.  Can you think of a better way we might make recommendations?  Use the cell below to explain a better method for new users."
   ]
  },
  {
   "cell_type": "markdown",
   "metadata": {},
   "source": [
    "**Provide your response here.**"
   ]
  },
  {
   "cell_type": "markdown",
   "metadata": {},
   "source": [
    "`7.` Using your existing functions, provide the top 10 recommended articles you would provide for the a new user below.  You can test your function against our thoughts to make sure we are all on the same page with how we might make a recommendation."
   ]
  },
  {
   "cell_type": "code",
   "execution_count": null,
   "metadata": {},
   "outputs": [],
   "source": [
    "new_user = '0.0'\n",
    "\n",
    "# What would your recommendations be for this new user '0.0'?  As a new user, they have no observed articles.\n",
    "# Provide a list of the top 10 article ids you would give to \n",
    "new_user_recs = get_top_article_ids(10) # Your recommendations here\n",
    "new_user_recs"
   ]
  },
  {
   "cell_type": "code",
   "execution_count": null,
   "metadata": {},
   "outputs": [],
   "source": [
    "assert set(new_user_recs) == set([1429.0, 1330.0, 1431.0, 1427.0, 1364.0, 1314.0, 1293.0, 1170.0, 1162.0, 1304.0]), \"Oops!  It makes sense that in this case we would want to recommend the most popular articles, because we don't know anything about these users.\"\n",
    "\n",
    "print(\"That's right!  Nice job!\")"
   ]
  },
  {
   "cell_type": "markdown",
   "metadata": {},
   "source": [
    "### <a class=\"anchor\" id=\"Content-Recs\">Part IV: Content Based Recommendations (EXTRA - NOT REQUIRED)</a>\n",
    "\n",
    "Another method we might use to make recommendations is to perform a ranking of the highest ranked articles associated with some term.  You might consider content to be the **doc_body**, **doc_description**, or **doc_full_name**.  There isn't one way to create a content based recommendation, especially considering that each of these columns hold content related information.  \n",
    "\n",
    "`1.` Use the function body below to create a content based recommender.  Since there isn't one right answer for this recommendation tactic, no test functions are provided.  Feel free to change the function inputs if you decide you want to try a method that requires more input values.  The input values are currently set with one idea in mind that you may use to make content based recommendations.  One additional idea is that you might want to choose the most popular recommendations that meet your 'content criteria', but again, there is a lot of flexibility in how you might make these recommendations.\n",
    "\n",
    "### This part is NOT REQUIRED to pass this project.  However, you may choose to take this on as an extra way to show off your skills."
   ]
  },
  {
   "cell_type": "code",
   "execution_count": null,
   "metadata": {},
   "outputs": [],
   "source": [
    "def make_content_recs():\n",
    "    '''\n",
    "    INPUT:\n",
    "    \n",
    "    OUTPUT:\n",
    "    \n",
    "    '''"
   ]
  },
  {
   "cell_type": "markdown",
   "metadata": {},
   "source": [
    "`2.` Now that you have put together your content-based recommendation system, use the cell below to write a summary explaining how your content based recommender works.  Do you see any possible improvements that could be made to your function?  Is there anything novel about your content based recommender?\n",
    "\n",
    "### This part is NOT REQUIRED to pass this project.  However, you may choose to take this on as an extra way to show off your skills."
   ]
  },
  {
   "cell_type": "markdown",
   "metadata": {},
   "source": [
    "**Write an explanation of your content based recommendation system here.**"
   ]
  },
  {
   "cell_type": "markdown",
   "metadata": {},
   "source": [
    "`3.` Use your content-recommendation system to make recommendations for the below scenarios based on the comments.  Again no tests are provided here, because there isn't one right answer that could be used to find these content based recommendations.\n",
    "\n",
    "### This part is NOT REQUIRED to pass this project.  However, you may choose to take this on as an extra way to show off your skills."
   ]
  },
  {
   "cell_type": "code",
   "execution_count": null,
   "metadata": {},
   "outputs": [],
   "source": [
    "# make recommendations for a brand new user\n",
    "\n",
    "\n",
    "# make a recommendations for a user who only has interacted with article id '1427.0'\n",
    "\n"
   ]
  },
  {
   "cell_type": "markdown",
   "metadata": {},
   "source": [
    "### <a class=\"anchor\" id=\"Matrix-Fact\">Part V: Matrix Factorization</a>\n",
    "\n",
    "In this part of the notebook, you will build use matrix factorization to make article recommendations to the users on the IBM Watson Studio platform.\n",
    "\n",
    "`1.` You should have already created a **user_item** matrix above in **question 1** of **Part III** above.  This first question here will just require that you run the cells to get things set up for the rest of **Part V** of the notebook. "
   ]
  },
  {
   "cell_type": "code",
   "execution_count": null,
   "metadata": {},
   "outputs": [],
   "source": [
    "# Load the matrix here\n",
    "user_item_matrix = pd.read_pickle('user_item_matrix.p')"
   ]
  },
  {
   "cell_type": "code",
   "execution_count": null,
   "metadata": {},
   "outputs": [],
   "source": [
    "# quick look at the matrix\n",
    "user_item_matrix.head()"
   ]
  },
  {
   "cell_type": "markdown",
   "metadata": {},
   "source": [
    "`2.` In this situation, you can use Singular Value Decomposition from [numpy](https://docs.scipy.org/doc/numpy-1.14.0/reference/generated/numpy.linalg.svd.html) on the user-item matrix.  Use the cell to perform SVD, and explain why this is different than in the lesson."
   ]
  },
  {
   "cell_type": "code",
   "execution_count": null,
   "metadata": {},
   "outputs": [],
   "source": [
    "# Perform SVD on the User-Item Matrix Here\n",
    "\n",
    "u, s, vt = # use the built in to get the three matrices"
   ]
  },
  {
   "cell_type": "markdown",
   "metadata": {},
   "source": [
    "**Provide your response here.**"
   ]
  },
  {
   "cell_type": "markdown",
   "metadata": {},
   "source": [
    "`3.` Now for the tricky part, how do we choose the number of latent features to use?  Running the below cell, you can see that as the number of latent features increases, we obtain a lower error rate on making predictions for the 1 and 0 values in the user-item matrix.  Run the cell below to get an idea of how the accuracy improves as we increase the number of latent features."
   ]
  },
  {
   "cell_type": "code",
   "execution_count": null,
   "metadata": {},
   "outputs": [],
   "source": [
    "num_latent_feats = np.arange(10,700+10,20)\n",
    "sum_errs = []\n",
    "\n",
    "for k in num_latent_feats:\n",
    "    # restructure with k latent features\n",
    "    s_new, u_new, vt_new = np.diag(s[:k]), u[:, :k], vt[:k, :]\n",
    "    \n",
    "    # take dot product\n",
    "    user_item_est = np.around(np.dot(np.dot(u_new, s_new), vt_new))\n",
    "    \n",
    "    # compute error for each prediction to actual value\n",
    "    diffs = np.subtract(user_item_matrix, user_item_est)\n",
    "    \n",
    "    # total errors and keep track of them\n",
    "    err = np.sum(np.sum(np.abs(diffs)))\n",
    "    sum_errs.append(err)\n",
    "    \n",
    "    \n",
    "plt.plot(num_latent_feats, 1 - np.array(sum_errs)/df.shape[0]);\n",
    "plt.xlabel('Number of Latent Features');\n",
    "plt.ylabel('Accuracy');\n",
    "plt.title('Accuracy vs. Number of Latent Features');"
   ]
  },
  {
   "cell_type": "markdown",
   "metadata": {},
   "source": [
    "`4.` From the above, we can't really be sure how many features to use, because simply having a better way to predict the 1's and 0's of the matrix doesn't exactly give us an indication of if we are able to make good recommendations.  Instead, we might split our dataset into a training and test set of data, as shown in the cell below.  \n",
    "\n",
    "Use the code from question 3 to understand the impact on accuracy of the training and test sets of data with different numbers of latent features. Using the split below: \n",
    "\n",
    "* How many users can we make predictions for in the test set?  \n",
    "* How many users are we not able to make predictions for because of the cold start problem?\n",
    "* How many articles can we make predictions for in the test set?  \n",
    "* How many articles are we not able to make predictions for because of the cold start problem?"
   ]
  },
  {
   "cell_type": "code",
   "execution_count": null,
   "metadata": {},
   "outputs": [],
   "source": [
    "df_train = df.head(40000)\n",
    "df_test = df.tail(5993)\n",
    "\n",
    "def create_test_and_train_user_item(df_train, df_test):\n",
    "    '''\n",
    "    INPUT:\n",
    "    df_train - training dataframe\n",
    "    df_test - test dataframe\n",
    "    \n",
    "    OUTPUT:\n",
    "    user_item_train - a user-item matrix of the training dataframe \n",
    "                      (unique users for each row and unique articles for each column)\n",
    "    user_item_test - a user-item matrix of the testing dataframe \n",
    "                    (unique users for each row and unique articles for each column)\n",
    "    test_idx - all of the test user ids\n",
    "    test_arts - all of the test article ids\n",
    "    \n",
    "    '''\n",
    "    # Your code here\n",
    "    \n",
    "    return user_item_train, user_item_test, test_idx, test_arts\n",
    "\n",
    "user_item_train, user_item_test, test_idx, test_arts = create_test_and_train_user_item(df_train, df_test)"
   ]
  },
  {
   "cell_type": "code",
   "execution_count": null,
   "metadata": {},
   "outputs": [],
   "source": [
    "# Replace the values in the dictionary below\n",
    "a = 662 \n",
    "b = 574 \n",
    "c = 20 \n",
    "d = 0 \n",
    "\n",
    "\n",
    "sol_4_dict = {\n",
    "    'How many users can we make predictions for in the test set?': # letter here, \n",
    "    'How many users in the test set are we not able to make predictions for because of the cold start problem?': # letter here, \n",
    "    'How many movies can we make predictions for in the test set?': # letter here,\n",
    "    'How many movies in the test set are we not able to make predictions for because of the cold start problem?': # letter here\n",
    "}\n",
    "\n",
    "t.sol_4_test(sol_4_dict)"
   ]
  },
  {
   "cell_type": "markdown",
   "metadata": {},
   "source": [
    "`5.` Now use the **user_item_train** dataset from above to find U, S, and V transpose using SVD. Then find the subset of rows in the **user_item_test** dataset that you can predict using this matrix decomposition with different numbers of latent features to see how many features makes sense to keep based on the accuracy on the test data. This will require combining what was done in questions `2` - `4`.\n",
    "\n",
    "Use the cells below to explore how well SVD works towards making predictions for recommendations on the test data.  "
   ]
  },
  {
   "cell_type": "code",
   "execution_count": null,
   "metadata": {},
   "outputs": [],
   "source": [
    "# fit SVD on the user_item_train matrix\n",
    "u_train, s_train, vt_train = # fit svd similar to above then use the cells below"
   ]
  },
  {
   "cell_type": "code",
   "execution_count": null,
   "metadata": {},
   "outputs": [],
   "source": [
    "# Use these cells to see how well you can use the training \n",
    "# decomposition to predict on test data"
   ]
  },
  {
   "cell_type": "code",
   "execution_count": null,
   "metadata": {},
   "outputs": [],
   "source": []
  },
  {
   "cell_type": "code",
   "execution_count": null,
   "metadata": {},
   "outputs": [],
   "source": []
  },
  {
   "cell_type": "markdown",
   "metadata": {
    "collapsed": true
   },
   "source": [
    "`6.` Use the cell below to comment on the results you found in the previous question. Given the circumstances of your results, discuss what you might do to determine if the recommendations you make with any of the above recommendation systems are an improvement to how users currently find articles? "
   ]
  },
  {
   "cell_type": "markdown",
   "metadata": {},
   "source": [
    "**Your response here.**"
   ]
  },
  {
   "cell_type": "markdown",
   "metadata": {
    "collapsed": true
   },
   "source": [
    "<a id='conclusions'></a>\n",
    "### Extras\n",
    "Using your workbook, you could now save your recommendations for each user, develop a class to make new predictions and update your results, and make a flask app to deploy your results.  These tasks are beyond what is required for this project.  However, from what you learned in the lessons, you certainly capable of taking these tasks on to improve upon your work here!\n",
    "\n",
    "\n",
    "## Conclusion\n",
    "\n",
    "> Congratulations!  You have reached the end of the Recommendations with IBM project! \n",
    "\n",
    "> **Tip**: Once you are satisfied with your work here, check over your report to make sure that it is satisfies all the areas of the [rubric](https://review.udacity.com/#!/rubrics/2322/view). You should also probably remove all of the \"Tips\" like this one so that the presentation is as polished as possible.\n",
    "\n",
    "\n",
    "## Directions to Submit\n",
    "\n",
    "> Before you submit your project, you need to create a .html or .pdf version of this notebook in the workspace here. To do that, run the code cell below. If it worked correctly, you should get a return code of 0, and you should see the generated .html file in the workspace directory (click on the orange Jupyter icon in the upper left).\n",
    "\n",
    "> Alternatively, you can download this report as .html via the **File** > **Download as** submenu, and then manually upload it into the workspace directory by clicking on the orange Jupyter icon in the upper left, then using the Upload button.\n",
    "\n",
    "> Once you've done this, you can submit your project by clicking on the \"Submit Project\" button in the lower right here. This will create and submit a zip file with this .ipynb doc and the .html or .pdf version you created. Congratulations! "
   ]
  },
  {
   "cell_type": "code",
   "execution_count": null,
   "metadata": {},
   "outputs": [],
   "source": [
    "from subprocess import call\n",
    "call(['python', '-m', 'nbconvert', 'Recommendations_with_IBM.ipynb'])"
   ]
  }
 ],
 "metadata": {
  "kernelspec": {
   "display_name": "Python 3",
   "language": "python",
   "name": "python3"
  },
  "language_info": {
   "codemirror_mode": {
    "name": "ipython",
    "version": 3
   },
   "file_extension": ".py",
   "mimetype": "text/x-python",
   "name": "python",
   "nbconvert_exporter": "python",
   "pygments_lexer": "ipython3",
   "version": "3.6.3"
  }
 },
 "nbformat": 4,
 "nbformat_minor": 2
}
