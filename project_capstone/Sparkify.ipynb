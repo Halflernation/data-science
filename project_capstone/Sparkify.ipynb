{
 "cells": [
  {
   "cell_type": "markdown",
   "metadata": {},
   "source": [
    "# Sparkify Project Workspace\n",
    "This workspace contains a tiny subset (128MB) of the full dataset available (12GB). Feel free to use this workspace to build your project, or to explore a smaller subset with Spark before deploying your cluster on the cloud. Instructions for setting up your Spark cluster is included in the last lesson of the Extracurricular Spark Course content.\n",
    "\n",
    "You can follow the steps below to guide your data analysis and model building portion of this project."
   ]
  },
  {
   "cell_type": "code",
   "execution_count": 1,
   "metadata": {},
   "outputs": [],
   "source": [
    "# import libraries\n",
    "import numpy as np\n",
    "### Spark\n",
    "import pyspark\n",
    "from pyspark import SparkConf\n",
    "from pyspark.sql import SparkSession\n",
    "from pyspark.sql.functions import udf\n",
    "from pyspark.sql.functions import avg, col, concat, count, desc, explode, lit, min, max, split, stddev, udf\n",
    "from pyspark.sql.types import StringType\n",
    "from pyspark.sql.types import IntegerType\n",
    "from pyspark.sql.functions import desc\n",
    "from pyspark.sql.functions import asc\n",
    "from pyspark.sql.functions import sum as Fsum\n",
    "from pyspark.ml import Pipeline\n",
    "from pyspark.ml.feature import RegexTokenizer, CountVectorizer, VectorAssembler, Normalizer, StandardScaler, IDF, StringIndexer\n",
    "from pyspark.ml.regression import LinearRegression\n",
    "from pyspark.ml.classification import LogisticRegression\n",
    "from pyspark.ml.clustering import KMeans\n",
    "from pyspark.ml.tuning import ParamGridBuilder, CrossValidator\n",
    "from pyspark.ml.evaluation import MulticlassClassificationEvaluator, RegressionEvaluator"
   ]
  },
  {
   "cell_type": "code",
   "execution_count": 2,
   "metadata": {},
   "outputs": [],
   "source": [
    "# create a Spark session\n",
    "spark = SparkSession \\\n",
    "    .builder \\\n",
    "    .appName(\"Sparkify\") \\\n",
    "    .getOrCreate()"
   ]
  },
  {
   "cell_type": "markdown",
   "metadata": {},
   "source": [
    "# Load and Clean Dataset\n",
    "In this workspace, the mini-dataset file is `mini_sparkify_event_data.json`. Load and clean the dataset, checking for invalid or missing data - for example, records without userids or sessionids. "
   ]
  },
  {
   "cell_type": "code",
   "execution_count": 3,
   "metadata": {},
   "outputs": [
    {
     "name": "stdout",
     "output_type": "stream",
     "text": [
      "root\n",
      " |-- artist: string (nullable = true)\n",
      " |-- auth: string (nullable = true)\n",
      " |-- firstName: string (nullable = true)\n",
      " |-- gender: string (nullable = true)\n",
      " |-- itemInSession: long (nullable = true)\n",
      " |-- lastName: string (nullable = true)\n",
      " |-- length: double (nullable = true)\n",
      " |-- level: string (nullable = true)\n",
      " |-- location: string (nullable = true)\n",
      " |-- method: string (nullable = true)\n",
      " |-- page: string (nullable = true)\n",
      " |-- registration: long (nullable = true)\n",
      " |-- sessionId: long (nullable = true)\n",
      " |-- song: string (nullable = true)\n",
      " |-- status: long (nullable = true)\n",
      " |-- ts: long (nullable = true)\n",
      " |-- userAgent: string (nullable = true)\n",
      " |-- userId: string (nullable = true)\n",
      "\n"
     ]
    }
   ],
   "source": [
    "# load 'mini_sparkify_event_data.json'\n",
    "sparkify = spark.read.json('mini_sparkify_event_data.json')\n",
    "sparkify.persist()\n",
    "sparkify.createOrReplaceTempView('sparkify')\n",
    "sparkify.printSchema()"
   ]
  },
  {
   "cell_type": "markdown",
   "metadata": {},
   "source": [
    "# Exploratory Data Analysis\n",
    "When you're working with the full dataset, perform EDA by loading a small subset of the data and doing basic manipulations within Spark. In this workspace, you are already provided a small subset of data you can explore.\n",
    "\n",
    "### Define Churn\n",
    "\n",
    "Once you've done some preliminary analysis, create a column `Churn` to use as the label for your model. I suggest using the `Cancellation Confirmation` events to define your churn, which happen for both paid and free users. As a bonus task, you can also look into the `Downgrade` events.\n",
    "\n",
    "### Explore Data\n",
    "Once you've defined churn, perform some exploratory data analysis to observe the behavior for users who stayed vs users who churned. You can start by exploring aggregates on these two groups of users, observing how much of a specific action they experienced per a certain time unit or number of songs played."
   ]
  },
  {
   "cell_type": "code",
   "execution_count": 4,
   "metadata": {},
   "outputs": [
    {
     "name": "stdout",
     "output_type": "stream",
     "text": [
      "+------+\n",
      "|userId|\n",
      "+------+\n",
      "|    10|\n",
      "|   100|\n",
      "|100001|\n",
      "|100002|\n",
      "|100003|\n",
      "|100004|\n",
      "|100005|\n",
      "|100006|\n",
      "|100007|\n",
      "|100008|\n",
      "|100009|\n",
      "|100011|\n",
      "|100012|\n",
      "|100013|\n",
      "|100014|\n",
      "|100015|\n",
      "|100016|\n",
      "|100017|\n",
      "|100018|\n",
      "|100019|\n",
      "+------+\n",
      "only showing top 20 rows\n",
      "\n",
      "171\n"
     ]
    }
   ],
   "source": [
    "# 2107 users who \"churned\"\n",
    "churned_users = spark.sql(\"select distinct userId from sparkify \\\n",
    "                            WHERE (page = 'Cancellation Confirmation') or (page = 'Downgrade') \\\n",
    "                            order by userId\")\n",
    "churned_users.show()\n",
    "print(churned_users.count())"
   ]
  },
  {
   "cell_type": "code",
   "execution_count": 5,
   "metadata": {},
   "outputs": [
    {
     "name": "stdout",
     "output_type": "stream",
     "text": [
      "+--------------------+---------+---------+------+-------------+----------+---------+-----+--------------------+------+--------+-------------+---------+--------------------+------+-------------+--------------------+------+-----+\n",
      "|              artist|     auth|firstName|gender|itemInSession|  lastName|   length|level|            location|method|    page| registration|sessionId|                song|status|           ts|           userAgent|userId|churn|\n",
      "+--------------------+---------+---------+------+-------------+----------+---------+-----+--------------------+------+--------+-------------+---------+--------------------+------+-------------+--------------------+------+-----+\n",
      "|    Dario Marianelli|Logged In|     Alex|     M|            4|     Hogan|146.99057| free|Denver-Aurora-Lak...|   PUT|NextSong|1535066380000|      100|        Cello Lesson|   200|1538359289000|Mozilla/5.0 (Wind...|   101|    1|\n",
      "|             BlÃÂ¸f|Logged In|    Grant|     M|           78|    Flores|202.84036| paid|New York-Newark-J...|   PUT|NextSong|1538120859000|      141|             Oktober|   200|1538386444000|\"Mozilla/5.0 (Mac...|   142|    1|\n",
      "|        The Redwalls|Logged In|Elizabeth|     F|            1|Washington|213.81179| paid|   Oklahoma City, OK|   PUT|NextSong|1532472246000|      247|     Universal Blues|   200|1538393851000|\"Mozilla/5.0 (Mac...|   120|    1|\n",
      "|Agnes Baltsa/Phil...|Logged In|    Ethan|     M|           68|   Johnson|  43.7024| paid|Lexington-Fayette...|   PUT|NextSong|1538080987000|      236|Orfeo ed Euridice...|   200|1538409597000|\"Mozilla/5.0 (Win...|    51|    1|\n",
      "|                Live|Logged In|  Spencer|     M|           22|  Gonzalez|267.62404| free|         Concord, NH|   PUT|NextSong|1537347211000|       64|    Run To The Water|   200|1538420771000|Mozilla/5.0 (X11;...|    65|    1|\n",
      "| Black Label Society|Logged In|     Lina|     F|           25|   Francis|347.37587| free|Los Angeles-Long ...|   PUT|NextSong|1536948181000|      215|Suicide Messiah (...|   200|1538428324000|Mozilla/5.0 (Wind...|   115|    1|\n",
      "|   Infected Mushroom|Logged In|    Ethan|     M|          178|   Johnson| 440.2673| paid|Lexington-Fayette...|   PUT|NextSong|1538080987000|      236|     Becoming Insane|   200|1538433738000|\"Mozilla/5.0 (Win...|    51|    1|\n",
      "|       Chris Cornell|Logged In|    Erick|     M|           85|    Brooks|374.62159| free|           Selma, AL|   PUT|NextSong|1537956751000|       57|              Scream|   200|1538441569000|\"Mozilla/5.0 (Win...|    58|    1|\n",
      "|          Beatfreakz|Logged In|    Ethan|     M|          221|   Johnson|201.82159| paid|Lexington-Fayette...|   PUT|NextSong|1538080987000|      236|          Superfreak|   200|1538442675000|\"Mozilla/5.0 (Win...|    51|    1|\n",
      "|   Killswitch Engage|Logged In|   Nicole|     F|          213|      Beck|232.54159| paid|Vineland-Bridgeto...|   PUT|NextSong|1532224335000|      123|When Darkness Fal...|   200|1538454150000|\"Mozilla/5.0 (Mac...|   124|    1|\n",
      "|          Tab Benoit|Logged In|   Autumn|     F|            7|    Martin|221.09995| paid|     Gainesville, FL|   PUT|NextSong|1537749786000|      315|           Jambalaya|   200|1538463271000|\"Mozilla/5.0 (Win...|    77|    1|\n",
      "|rinÃÂ´ÃÂ§ÃÂ©rÃ...|Logged In| Adelaida|     F|           13| Rodriguez|193.82812| free|Los Angeles-Long ...|   PUT|NextSong|1537767796000|      193|             Cubicle|   200|1538463393000|\"Mozilla/5.0 (Mac...|    46|    1|\n",
      "|     Alice In Chains|Logged In|   Aurora|     F|           37|  Humphrey|289.61914| paid|Dallas-Fort Worth...|   PUT|NextSong|1536795126000|      235|      Man In The Box|   200|1538483601000|\"Mozilla/5.0 (Win...|   127|    1|\n",
      "|        Phil Collins|Logged In|    Ethan|     M|          551|   Johnson|258.48118| paid|Lexington-Fayette...|   PUT|NextSong|1538080987000|      236|You'll Be In My H...|   200|1538509087000|\"Mozilla/5.0 (Win...|    51|    1|\n",
      "|  Charttraxx Karaoke|Logged In|    Riley|     F|          129|    Taylor|225.17506| free|Boston-Cambridge-...|   PUT|NextSong|1536403972000|      322|           Fireflies|   200|1538509649000|\"Mozilla/5.0 (iPa...|    92|    1|\n",
      "|         Nonpalidece|Logged In|    Colin|     M|          117|    Larson|188.02893| paid|Dallas-Fort Worth...|   PUT|NextSong|1537982255000|      256|      Manifiesto Dub|   200|1538516743000|Mozilla/5.0 (Wind...|   100|    1|\n",
      "|             Pantera|Logged In|    Colin|     M|          165|    Larson|264.80281| paid|Dallas-Fort Worth...|   PUT|NextSong|1537982255000|      256|I'm Broken  (LP V...|   200|1538527214000|Mozilla/5.0 (Wind...|   100|    1|\n",
      "|   59 Times the Pain|Logged In|     Alex|     M|          141|     Hogan|144.95302| paid|Denver-Aurora-Lak...|   PUT|NextSong|1535066380000|      312|          Found Home|   200|1538528966000|Mozilla/5.0 (Wind...|   101|    1|\n",
      "|Mos Def / Georgia...|Logged In|     Alex|     M|          147|     Hogan|221.09995| paid|Denver-Aurora-Lak...|   PUT|NextSong|1535066380000|      312|               Roses|   200|1538529878000|Mozilla/5.0 (Wind...|   101|    1|\n",
      "|       Dream Theater|Logged In|Alexander|     M|          112|    Garcia|127.99955| paid|Indianapolis-Carm...|   PUT|NextSong|1536817381000|      104|  War Inside My Head|   200|1538533162000|Mozilla/5.0 (Wind...|   105|    1|\n",
      "+--------------------+---------+---------+------+-------------+----------+---------+-----+--------------------+------+--------+-------------+---------+--------------------+------+-------------+--------------------+------+-----+\n",
      "only showing top 20 rows\n",
      "\n"
     ]
    }
   ],
   "source": [
    "# songs list of users who churned = 217405 total\n",
    "table = spark.sql(''' ((select *, 1 as churn \n",
    "            from sparkify \n",
    "              where page = 'NextSong' and userId IN (\n",
    "                select distinct userId from sparkify \n",
    "                WHERE (page = 'Cancellation Confirmation') or (page = 'Downgrade') \n",
    "                order by userId) \n",
    "                ) )\n",
    "            union ( \n",
    "            (select *, 0 as churn \n",
    "            from sparkify where page = 'NextSong' and userId not IN ( \n",
    "            select distinct userId from sparkify \n",
    "            WHERE (page = 'Cancellation Confirmation') or (page = 'Downgrade') \n",
    "            order by userId) \n",
    "             )  )\n",
    "             ''')\n",
    "\n",
    "table.createOrReplaceTempView('table')\n",
    "df = spark.sql(\"select * from table where churn = 1\").show()\n",
    "df"
   ]
  },
  {
   "cell_type": "code",
   "execution_count": 6,
   "metadata": {},
   "outputs": [
    {
     "data": {
      "text/plain": [
       "'\\nWe can see that most people Downgrade their service rather than cancel the service entirely.\\nChurn: 21 (went free) / 2086 (downgraded the subscription) [total 2107]\\nIn total 52 people cancelled\\nCancellation/downgrade is pretty distributed between Males and Females.\\n'"
      ]
     },
     "execution_count": 6,
     "metadata": {},
     "output_type": "execute_result"
    }
   ],
   "source": [
    "### self-input\n",
    "'''\n",
    "We can see that most people Downgrade their service rather than cancel the service entirely.\n",
    "Churn: 21 (went free) / 2086 (downgraded the subscription) [total 2107]\n",
    "In total 52 people cancelled\n",
    "Cancellation/downgrade is pretty distributed between Males and Females.\n",
    "'''"
   ]
  },
  {
   "cell_type": "code",
   "execution_count": 7,
   "metadata": {},
   "outputs": [
    {
     "name": "stdout",
     "output_type": "stream",
     "text": [
      "+------+-------------+-----+----------+\n",
      "|userId|itemInSession|churn|song_count|\n",
      "+------+-------------+-----+----------+\n",
      "|    10|           97|    1|       673|\n",
      "|   100|           91|    1|      2682|\n",
      "|100001|           20|    1|       133|\n",
      "|100002|            0|    1|       195|\n",
      "|100003|           78|    1|        51|\n",
      "|100004|          121|    1|       942|\n",
      "|100005|           69|    1|       154|\n",
      "|100006|           42|    1|        26|\n",
      "|100007|          198|    1|       423|\n",
      "|100008|           42|    1|       772|\n",
      "|100009|           58|    1|       518|\n",
      "|100010|           33|    0|       275|\n",
      "|100011|           19|    1|        11|\n",
      "|100012|           71|    1|       476|\n",
      "|100013|           48|    1|      1131|\n",
      "|100014|           70|    1|       257|\n",
      "|100015|          112|    1|       800|\n",
      "|100016|           48|    1|       530|\n",
      "|100017|           71|    1|        52|\n",
      "|100018|           49|    1|      1002|\n",
      "+------+-------------+-----+----------+\n",
      "only showing top 20 rows\n",
      "\n",
      "225\n"
     ]
    }
   ],
   "source": [
    "# SELECT CASE WHEN 1 > 0 THEN 1 WHEN 2 > 0 THEN 2.0 ELSE 1.2 END;\n",
    "is_home = spark.sql(\"SELECT *, CASE WHEN page = 'NextSong' THEN 1 ELSE 0 END AS is_next_song FROM table \\\n",
    "             WHERE page = 'NextSong'\") #\n",
    "\n",
    "# keep the results in a new view\n",
    "is_home.createOrReplaceTempView(\"is_next_song_table\")\n",
    "\n",
    "# find the cumulative sum over the is_home column\n",
    "cumulative_sum = spark.sql(\"SELECT *, SUM(is_next_song) OVER \\\n",
    "    (PARTITION BY userID ORDER BY ts ASC ROWS BETWEEN UNBOUNDED PRECEDING AND CURRENT ROW) AS period \\\n",
    "    FROM is_next_song_table \\\n",
    "    ORDER BY userId ASC, ts DESC\")\n",
    "\n",
    "# keep the results in a view\n",
    "cumulative_sum.createOrReplaceTempView(\"song_count_table\")\n",
    "\n",
    "# find the average count for NextSong\n",
    "#spark.sql(\"SELECT AVG(count_results) FROM \\\n",
    "#          (SELECT COUNT(*) AS count_results FROM song_count_table \\\n",
    "#GROUP BY userID, period, page HAVING page = 'NextSong') AS counts\").show()\n",
    "\n",
    "dataframe = spark.sql('''SELECT userId, first(itemInSession) as itemInSession, first(churn) as churn, COUNT(*) AS song_count FROM song_count_table \\\n",
    "            GROUP BY userId\n",
    "            ORder By userId ASC\n",
    "            ''')\n",
    "dataframe.show()\n",
    "print(dataframe.count())"
   ]
  },
  {
   "cell_type": "markdown",
   "metadata": {},
   "source": [
    "# Feature Engineering\n",
    "Once you've familiarized yourself with the data, build out the features you find promising to train your model on. To work with the full dataset, you can follow the following steps.\n",
    "- Write a script to extract the necessary features from the smaller subset of data\n",
    "- Ensure that your script is scalable, using the best practices discussed in Lesson 3\n",
    "- Try your script on the full data set, debugging your script if necessary\n",
    "\n",
    "If you are working in the classroom workspace, you can just extract features based on the small subset of data contained here. Be sure to transfer over this work to the larger dataset when you work on your Spark cluster."
   ]
  },
  {
   "cell_type": "code",
   "execution_count": 8,
   "metadata": {},
   "outputs": [],
   "source": [
    "assembler = VectorAssembler(inputCols=[\"itemInSession\", \"song_count\"], outputCol=\"featureVec\")\n",
    "df_assembled = assembler.transform(dataframe)"
   ]
  },
  {
   "cell_type": "code",
   "execution_count": 9,
   "metadata": {},
   "outputs": [
    {
     "data": {
      "text/plain": [
       "Row(label=1, features=DenseVector([97.0, 673.0]))"
      ]
     },
     "execution_count": 9,
     "metadata": {},
     "output_type": "execute_result"
    }
   ],
   "source": [
    "# Features: An array of data points of features to be used for predicting (the label).\n",
    "# Label: the output for each data point.\n",
    "# Required `label` to be Int: It already is an Int\n",
    "data = df_assembled.select(col(\"churn\").alias(\"label\"), col(\"featureVec\").alias(\"features\"))\n",
    "data.head()"
   ]
  },
  {
   "cell_type": "code",
   "execution_count": 10,
   "metadata": {},
   "outputs": [
    {
     "name": "stdout",
     "output_type": "stream",
     "text": [
      "+-----+-------------+\n",
      "|label|     features|\n",
      "+-----+-------------+\n",
      "|    1| [97.0,673.0]|\n",
      "|    1|[91.0,2682.0]|\n",
      "|    1| [20.0,133.0]|\n",
      "|    1|  [0.0,195.0]|\n",
      "|    1|  [78.0,51.0]|\n",
      "|    1|[121.0,942.0]|\n",
      "|    1| [69.0,154.0]|\n",
      "|    1|  [42.0,26.0]|\n",
      "|    1|[198.0,423.0]|\n",
      "|    1| [42.0,772.0]|\n",
      "|    1| [58.0,518.0]|\n",
      "|    0| [33.0,275.0]|\n",
      "|    1|  [19.0,11.0]|\n",
      "|    1| [71.0,476.0]|\n",
      "|    1|[48.0,1131.0]|\n",
      "|    1| [70.0,257.0]|\n",
      "|    1|[112.0,800.0]|\n",
      "|    1| [48.0,530.0]|\n",
      "|    1|  [71.0,52.0]|\n",
      "|    1|[49.0,1002.0]|\n",
      "+-----+-------------+\n",
      "only showing top 20 rows\n",
      "\n"
     ]
    }
   ],
   "source": [
    "data.show()"
   ]
  },
  {
   "cell_type": "markdown",
   "metadata": {},
   "source": [
    "# Modeling\n",
    "Split the full dataset into train, test, and validation sets. Test out several of the machine learning methods you learned. Evaluate the accuracy of the various models, tuning parameters as necessary. Determine your winning model based on test accuracy and report results on the validation set. Since the churned users are a fairly small subset, I suggest using F1 score as the metric to optimize."
   ]
  },
  {
   "cell_type": "code",
   "execution_count": 11,
   "metadata": {},
   "outputs": [],
   "source": [
    "train, test = data.randomSplit([0.7, 0.3], seed=42)"
   ]
  },
  {
   "cell_type": "code",
   "execution_count": 12,
   "metadata": {},
   "outputs": [],
   "source": [
    "##### ##### Linear Regression ##### #####"
   ]
  },
  {
   "cell_type": "code",
   "execution_count": 13,
   "metadata": {},
   "outputs": [
    {
     "name": "stdout",
     "output_type": "stream",
     "text": [
      "+--------------------+\n",
      "|           residuals|\n",
      "+--------------------+\n",
      "|-0.02423586435434788|\n",
      "|   0.917125058533248|\n",
      "|  0.9392372093638337|\n",
      "|  0.8225249445901028|\n",
      "|  0.8090739479675788|\n",
      "|  0.6724353052457737|\n",
      "|   0.957212333298287|\n",
      "|  0.7045942821830341|\n",
      "|  0.5481399690006165|\n",
      "|   0.774907150238884|\n",
      "|  0.5862653119262324|\n",
      "|  0.8522425817599869|\n",
      "|  0.7587955173065957|\n",
      "|  0.9289257273708934|\n",
      "|  0.7520213281848384|\n",
      "| 0.14588313827601396|\n",
      "|  0.6552909489207277|\n",
      "| 0.08038464593503336|\n",
      "|  0.7074904965779567|\n",
      "|-0.11187145929842292|\n",
      "+--------------------+\n",
      "only showing top 20 rows\n",
      "\n",
      "None\n",
      "0.532588626590456\n",
      "0.6256741485825015\n",
      "[0.00207158011062,0.000311604054544]\n"
     ]
    }
   ],
   "source": [
    "# Linear Regression\n",
    "linreg = LinearRegression(maxIter=10, regParam=0.0, fitIntercept=False, solver=\"normal\")\n",
    "\n",
    "model = linreg.fit(train)\n",
    "print(model.summary.residuals.show())\n",
    "print(model.summary.rootMeanSquaredError)\n",
    "print(model.summary.r2)\n",
    "print(model.coefficients)"
   ]
  },
  {
   "cell_type": "code",
   "execution_count": 14,
   "metadata": {},
   "outputs": [],
   "source": [
    "results = model.transform(test)"
   ]
  },
  {
   "cell_type": "code",
   "execution_count": 15,
   "metadata": {},
   "outputs": [
    {
     "name": "stdout",
     "output_type": "stream",
     "text": [
      "0\n",
      "64\n",
      "0.0\n"
     ]
    }
   ],
   "source": [
    "pred_res = results.filter(results.label == results.prediction).count()\n",
    "total = results.count()\n",
    "print(pred_res)\n",
    "print(total)\n",
    "print(pred_res/total) # 0.0"
   ]
  },
  {
   "cell_type": "code",
   "execution_count": 16,
   "metadata": {},
   "outputs": [],
   "source": [
    "##### ##### Logistic Regression ##### #####"
   ]
  },
  {
   "cell_type": "code",
   "execution_count": 17,
   "metadata": {},
   "outputs": [
    {
     "name": "stdout",
     "output_type": "stream",
     "text": [
      "0.8385093167701864\n",
      "[0.00229161062917,0.00496219529871]\n"
     ]
    }
   ],
   "source": [
    "# Logistic Regression\n",
    "logreg = LogisticRegression(maxIter=10, regParam=0.0)\n",
    "\n",
    "model = logreg.fit(train) # used to be data\n",
    "# print(model.summary.residuals.show())\n",
    "print(model.summary.accuracy) # 0.8385093167701864\n",
    "print(model.coefficients)"
   ]
  },
  {
   "cell_type": "code",
   "execution_count": 18,
   "metadata": {},
   "outputs": [],
   "source": [
    "results = model.transform(test) # used to be data"
   ]
  },
  {
   "cell_type": "code",
   "execution_count": 19,
   "metadata": {},
   "outputs": [
    {
     "name": "stdout",
     "output_type": "stream",
     "text": [
      "58\n",
      "64\n",
      "0.90625\n"
     ]
    }
   ],
   "source": [
    "pred_res = results.filter(results.label == results.prediction).count()\n",
    "total = results.count()\n",
    "print(pred_res) # 58\n",
    "print(total) # 64\n",
    "print(pred_res/total) # 0.90625"
   ]
  },
  {
   "cell_type": "markdown",
   "metadata": {},
   "source": [
    "# Final Steps\n",
    "Clean up your code, adding comments and renaming variables to make the code easier to read and maintain. Refer to the Spark Project Overview page and Data Scientist Capstone Project Rubric to make sure you are including all components of the capstone project and meet all expectations. Remember, this includes thorough documentation in a README file in a Github repository, as well as a web app or blog post."
   ]
  },
  {
   "cell_type": "code",
   "execution_count": 20,
   "metadata": {},
   "outputs": [],
   "source": [
    "##### ##### Linear Regression ##### #####"
   ]
  },
  {
   "cell_type": "code",
   "execution_count": 21,
   "metadata": {},
   "outputs": [
    {
     "data": {
      "text/plain": [
       "'\\nNo need to make a cross validation where the model is not performing\\n'"
      ]
     },
     "execution_count": 21,
     "metadata": {},
     "output_type": "execute_result"
    }
   ],
   "source": [
    "'''\n",
    "No need to make a cross validation where the model is not performing\n",
    "'''"
   ]
  },
  {
   "cell_type": "code",
   "execution_count": 22,
   "metadata": {},
   "outputs": [],
   "source": [
    "##### ##### Logistic Regression ##### #####"
   ]
  },
  {
   "cell_type": "code",
   "execution_count": 23,
   "metadata": {},
   "outputs": [
    {
     "data": {
      "text/plain": [
       "[0.4295431762135385,\n",
       " 0.49065256832765525,\n",
       " 0.49065256832765525,\n",
       " 0.46736471985619393,\n",
       " 0.49065256832765525,\n",
       " 0.49065256832765525,\n",
       " 0.46736471985619393,\n",
       " 0.49065256832765525,\n",
       " 0.49065256832765525,\n",
       " 0.46736471985619393,\n",
       " 0.49065256832765525,\n",
       " 0.49065256832765525]"
      ]
     },
     "execution_count": 23,
     "metadata": {},
     "output_type": "execute_result"
    }
   ],
   "source": [
    "# Tuning\n",
    "paramGrid = ParamGridBuilder() \\\n",
    "     .addGrid(logreg.maxIter,[5, 10, 15, 25]) \\\n",
    "     .addGrid(logreg.regParam,[0.0, 0.5, 1.0]) \\\n",
    "     .build()\n",
    "    \n",
    "crossval = CrossValidator(estimator=logreg,\n",
    "                          estimatorParamMaps=paramGrid,\n",
    "                          evaluator=RegressionEvaluator(),\n",
    "                          numFolds=3)\n",
    "\n",
    "cvmodel = crossval.fit(train)\n",
    "cvmodel.avgMetrics"
   ]
  },
  {
   "cell_type": "code",
   "execution_count": 24,
   "metadata": {},
   "outputs": [],
   "source": [
    "results = cvmodel.transform(test)"
   ]
  },
  {
   "cell_type": "code",
   "execution_count": 25,
   "metadata": {},
   "outputs": [
    {
     "name": "stdout",
     "output_type": "stream",
     "text": [
      "54\n",
      "64\n",
      "0.84375\n"
     ]
    }
   ],
   "source": [
    "pred_res = results.filter(results.label == results.prediction).count()\n",
    "total = results.count()\n",
    "print(pred_res)\n",
    "print(total)\n",
    "print(pred_res/total)"
   ]
  },
  {
   "cell_type": "code",
   "execution_count": 26,
   "metadata": {},
   "outputs": [
    {
     "name": "stdout",
     "output_type": "stream",
     "text": [
      "END\n"
     ]
    }
   ],
   "source": [
    "print(\"END\")"
   ]
  }
 ],
 "metadata": {
  "kernelspec": {
   "display_name": "Python 3",
   "language": "python",
   "name": "python3"
  },
  "language_info": {
   "codemirror_mode": {
    "name": "ipython",
    "version": 3
   },
   "file_extension": ".py",
   "mimetype": "text/x-python",
   "name": "python",
   "nbconvert_exporter": "python",
   "pygments_lexer": "ipython3",
   "version": "3.6.3"
  }
 },
 "nbformat": 4,
 "nbformat_minor": 2
}
